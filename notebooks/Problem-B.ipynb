{
 "cells": [
  {
   "cell_type": "code",
   "execution_count": 6,
   "metadata": {},
   "outputs": [],
   "source": [
    "import os\n",
    "import re\n",
    "import pandas as pd\n",
    "import numpy as np\n",
    "import warnings\n",
    "warnings.filterwarnings('ignore')"
   ]
  },
  {
   "cell_type": "code",
   "execution_count": 7,
   "metadata": {},
   "outputs": [],
   "source": [
    "movies_df = pd.read_csv(\"/Users/georgenteves/rec_sys_proj/data/serendipity-sac2018/movies.csv\",sep=',')"
   ]
  },
  {
   "cell_type": "code",
   "execution_count": 8,
   "metadata": {},
   "outputs": [],
   "source": [
    "movies_df = movies_df.drop(['releaseDate', 'imdbId', 'tmdbId', 'Unnamed: 8','Unnamed: 9','Unnamed: 10','Unnamed: 11'], axis = 1) "
   ]
  },
  {
   "cell_type": "code",
   "execution_count": 9,
   "metadata": {},
   "outputs": [],
   "source": [
    "answers_df = pd.read_csv(\"/Users/georgenteves/rec_sys_proj/data/serendipity-sac2018/answers.csv\",sep=',')"
   ]
  },
  {
   "cell_type": "code",
   "execution_count": 10,
   "metadata": {},
   "outputs": [],
   "source": [
    "answers_df = answers_df.drop(['rating', 'predictedRating', 's_ser_rel', 'q','s_ser_find','s_ser_imp','s_ser_rec', 'm_ser_rel', 'm_ser_find', 'm_ser_imp' , 'm_ser_rec'], axis = 1) "
   ]
  },
  {
   "cell_type": "code",
   "execution_count": 11,
   "metadata": {},
   "outputs": [],
   "source": [
    "movies_rated_by_user = {}\n",
    "answers_df_timestamp_ascending = answers_df.sort_values('timestamp')\n",
    "answers_df_timestamp_ascending = answers_df_timestamp_ascending.reset_index(drop=True)\n",
    "\n",
    "for answer in range(0, len(answers_df_timestamp_ascending)):\n",
    "    if int(answers_df_timestamp_ascending['userId'][answer]) in movies_rated_by_user:\n",
    "        movies_rated_by_user[int(answers_df_timestamp_ascending['userId'][answer])].append(int(answers_df_timestamp_ascending['movieId'][answer]))\n",
    "    else:\n",
    "        movies_rated_by_user[int(answers_df_timestamp_ascending['userId'][answer])] = []\n",
    "        movies_rated_by_user[int(answers_df_timestamp_ascending['userId'][answer])].append(answers_df_timestamp_ascending['movieId'][answer])        "
   ]
  },
  {
   "cell_type": "markdown",
   "metadata": {},
   "source": [
    "# SImilarity movies per user"
   ]
  },
  {
   "cell_type": "code",
   "execution_count": 12,
   "metadata": {},
   "outputs": [],
   "source": [
    "def jaccard_similarity_with_previous_rated_movies(user_movies_list, current_movie):\n",
    "    \n",
    "    total_similarity_sum = 0\n",
    "    total_movies_number = 0\n",
    "    \n",
    "    for movie in user_movies_list:\n",
    "        number_of_criteria = 0\n",
    "        current_similarity_sum = 0\n",
    "        \n",
    "        if (movies_df.index[movies_df['movieId'] == current_movie][0] - 1) >= 0:\n",
    "            list1 = movies_df['directedBy'][movies_df.index[movies_df['movieId'] == movie][0] - 1].split(',')\n",
    "            list2 = movies_df['directedBy'][movies_df.index[movies_df['movieId'] == current_movie][0] - 1].split(',')\n",
    "            intersection = len(list(set(list1).intersection(list2)))\n",
    "            union = (len(list1) + len(list2)) - intersection\n",
    "            current_similarity_sum += float(intersection) / union\n",
    "            number_of_criteria += 1\n",
    "\n",
    "            list1 = movies_df['starring'][movies_df.index[movies_df['movieId'] == movie][0] - 1].split(',')\n",
    "            list2 = movies_df['starring'][movies_df.index[movies_df['movieId'] == current_movie][0] - 1].split(',')\n",
    "            intersection = len(list(set(list1).intersection(list2)))\n",
    "            union = (len(list1) + len(list2)) - intersection\n",
    "            current_similarity_sum += float(intersection) / union\n",
    "            number_of_criteria += 1\n",
    "\n",
    "            list1 = movies_df['genres'][movies_df.index[movies_df['movieId'] == movie][0] - 1].split(',')\n",
    "            list2 = movies_df['genres'][movies_df.index[movies_df['movieId'] == current_movie][0] - 1].split(',')\n",
    "            intersection = len(list(set(list1).intersection(list2)))\n",
    "            union = (len(list1) + len(list2)) - intersection\n",
    "            current_similarity_sum += float(intersection) / union\n",
    "            number_of_criteria += 1\n",
    "\n",
    "            current_similarity = current_similarity_sum / number_of_criteria\n",
    "            total_similarity_sum += current_similarity\n",
    "            total_movies_number += 1\n",
    "    \n",
    "    if total_movies_number > 0:\n",
    "        answer = total_similarity_sum / total_movies_number\n",
    "    else:\n",
    "        answer = 0\n",
    "    \n",
    "    return answer"
   ]
  },
  {
   "cell_type": "code",
   "execution_count": 13,
   "metadata": {},
   "outputs": [],
   "source": [
    "def similarity_with_previous_rated_movies_by_user(userId, current_movie):\n",
    "    similarity = 0\n",
    "    if userId in movies_rated_by_user:\n",
    "        if current_movie not in movies_rated_by_user[userId]:\n",
    "            similarity = jaccard_similarity_with_previous_rated_movies(movies_rated_by_user[userId], current_movie)\n",
    "        else:\n",
    "            previous_movies_rated_by_user = []\n",
    "            current_movie_index = movies_rated_by_user[userId].index(current_movie)\n",
    "            for movie_index in range(0, len(movies_rated_by_user[userId])):\n",
    "                if movie_index < current_movie_index:\n",
    "                    previous_movies_rated_by_user.append(movies_rated_by_user[userId][movie_index])\n",
    "                else:\n",
    "                    break\n",
    "            if len(previous_movies_rated_by_user) > 0:\n",
    "                similarity = jaccard_similarity_with_previous_rated_movies(previous_movies_rated_by_user, current_movie)  \n",
    "                \n",
    "    return similarity"
   ]
  },
  {
   "cell_type": "markdown",
   "metadata": {},
   "source": [
    "### Popularity in ml-latest-small"
   ]
  },
  {
   "cell_type": "code",
   "execution_count": 14,
   "metadata": {},
   "outputs": [],
   "source": [
    "movies_ratings = pd.read_csv(\"/Users/georgenteves/rec_sys_proj/data/ml-latest-small/ratings.csv\",sep=',')"
   ]
  },
  {
   "cell_type": "code",
   "execution_count": 15,
   "metadata": {},
   "outputs": [],
   "source": [
    "movies_all = pd.read_csv(\"/Users/georgenteves/rec_sys_proj/data/ml-latest-small/movies.csv\",sep=',')"
   ]
  },
  {
   "cell_type": "code",
   "execution_count": 16,
   "metadata": {},
   "outputs": [],
   "source": [
    "rated_movies_popularity = {}\n",
    "\n",
    "for movie in range(0, len(movies_ratings)):\n",
    "    if int(movies_ratings['movieId'][movie]) not in rated_movies_popularity:\n",
    "        times_rated = len(movies_ratings.loc[movies_ratings['movieId'] == int(movies_ratings['movieId'][movie])])\n",
    "        rated_movies_popularity[int(movies_ratings['movieId'][movie])] = -np.log10(times_rated / movies_ratings['userId'].nunique())"
   ]
  },
  {
   "cell_type": "markdown",
   "metadata": {},
   "source": [
    "# Serendipity index"
   ]
  },
  {
   "cell_type": "code",
   "execution_count": 17,
   "metadata": {},
   "outputs": [],
   "source": [
    "questions = ['s1', 's2', 's3', 's4', 's5', 's6', 's7', 's8']\n",
    "movies_serendipity_sum = {}\n",
    "movies_serendipity_users = {}\n",
    "movies_serendipity = {}\n",
    "\n",
    "for answer in range(0, len(answers_df_timestamp_ascending)):\n",
    "    number_of_questions = 0\n",
    "    current_user_serendipity_sum = 0\n",
    "    \n",
    "    for question in questions:\n",
    "        if (np.isnan(answers_df_timestamp_ascending[question][answer]) == False):\n",
    "            number_of_questions += 1\n",
    "            current_user_serendipity_sum += answers_df_timestamp_ascending[question][answer]/5\n",
    "    \n",
    "    if number_of_questions != 0:\n",
    "        current_user_serendipity = current_user_serendipity_sum / number_of_questions\n",
    "    \n",
    "    if int(answers_df_timestamp_ascending['movieId'][answer]) not in movies_serendipity_sum:\n",
    "        movies_serendipity_sum[int(answers_df_timestamp_ascending['movieId'][answer])] = current_user_serendipity\n",
    "    else:\n",
    "        movies_serendipity_sum[int(answers_df_timestamp_ascending['movieId'][answer])] += current_user_serendipity\n",
    "        \n",
    "    if int(answers_df_timestamp_ascending['movieId'][answer]) not in movies_serendipity_users:\n",
    "        movies_serendipity_users[int(answers_df_timestamp_ascending['movieId'][answer])] = 1\n",
    "    else:\n",
    "        movies_serendipity_users[int(answers_df_timestamp_ascending['movieId'][answer])] += 1\n",
    "\n",
    "for movie in movies_serendipity_users:\n",
    "    movies_serendipity[movie] = movies_serendipity_sum[movie] / movies_serendipity_users[movie]"
   ]
  },
  {
   "cell_type": "markdown",
   "metadata": {},
   "source": [
    "\n",
    "# Categories"
   ]
  },
  {
   "cell_type": "code",
   "execution_count": 18,
   "metadata": {},
   "outputs": [],
   "source": [
    "import random\n",
    "\n",
    "number_of_categories = 5\n",
    "movie_ids = movies_df[\"movieId\"].unique()\n",
    "random.shuffle(movie_ids)"
   ]
  },
  {
   "cell_type": "code",
   "execution_count": 19,
   "metadata": {},
   "outputs": [],
   "source": [
    "categories = np.random.randint(low = 0,high = number_of_categories+1, size=len(movie_ids))"
   ]
  },
  {
   "cell_type": "code",
   "execution_count": 20,
   "metadata": {},
   "outputs": [],
   "source": [
    "movies_with_categories = pd.DataFrame({'Movie Id': movie_ids[:], 'Category': categories[:],'Values':np.ones(len(movie_ids))}) "
   ]
  },
  {
   "cell_type": "code",
   "execution_count": 21,
   "metadata": {},
   "outputs": [],
   "source": [
    "categorized_movies = movies_with_categories.pivot(\n",
    "    index='Category',\n",
    "    columns='Movie Id',\n",
    "    values='Values'\n",
    ").fillna(0).astype(int)"
   ]
  },
  {
   "cell_type": "code",
   "execution_count": 22,
   "metadata": {},
   "outputs": [],
   "source": [
    "cat_dict = {}\n",
    "for cat_id in movies_with_categories['Category'].unique():\n",
    "    cat_dict[cat_id] = movies_with_categories.loc[movies_with_categories['Category']==cat_id]['Movie Id'].tolist()"
   ]
  },
  {
   "cell_type": "code",
   "execution_count": 23,
   "metadata": {},
   "outputs": [],
   "source": [
    "movies_df['directedBy'].fillna('', inplace=True)\n",
    "movies_df['starring'].fillna('', inplace=True)\n",
    "movies_df['genres'].fillna('', inplace=True)"
   ]
  },
  {
   "cell_type": "code",
   "execution_count": 24,
   "metadata": {},
   "outputs": [],
   "source": [
    "model_df = pd.DataFrame(\n",
    "    [int(row['userId']), int(row['movieId']), similarity_with_previous_rated_movies_by_user(int(row['userId']), int(row['movieId'])), rated_movies_popularity[int(row['movieId'])], movies_serendipity[int(row['movieId'])]] for index, row in answers_df_timestamp_ascending.iterrows() if int(row['movieId']) in rated_movies_popularity)"
   ]
  },
  {
   "cell_type": "code",
   "execution_count": 25,
   "metadata": {
    "scrolled": true
   },
   "outputs": [],
   "source": [
    "model_df.columns = ['userId', 'movieId', 'similarity_previous_rated_by_user', 'popularity', 'movie_serendipity']"
   ]
  },
  {
   "cell_type": "code",
   "execution_count": 26,
   "metadata": {},
   "outputs": [],
   "source": [
    "model_df.loc[(model_df.movie_serendipity >= 0.5),'movie_serendipity']= int(1)\n",
    "model_df.loc[(model_df.movie_serendipity < 0.5),'movie_serendipity']= int(0)"
   ]
  },
  {
   "cell_type": "code",
   "execution_count": 27,
   "metadata": {},
   "outputs": [
    {
     "name": "stdout",
     "output_type": "stream",
     "text": [
      "The size of train set and test set is 1152 and 288 respectively.\n"
     ]
    }
   ],
   "source": [
    "from sklearn.model_selection import train_test_split\n",
    "\n",
    "train_set, test_set = train_test_split(model_df, test_size = 0.2, random_state = 28)\n",
    "print ('The size of train set and test set is {0} and {1} respectively.'.format(len(train_set),len(test_set)))"
   ]
  },
  {
   "cell_type": "code",
   "execution_count": 28,
   "metadata": {},
   "outputs": [],
   "source": [
    "train_X = []\n",
    "train_Y = []\n",
    "\n",
    "for index, values in train_set.iterrows():\n",
    "    train_X.append([values['similarity_previous_rated_by_user'], values['popularity']])\n",
    "    train_Y.append(values['movie_serendipity'])"
   ]
  },
  {
   "cell_type": "code",
   "execution_count": 29,
   "metadata": {},
   "outputs": [],
   "source": [
    "test_X = []\n",
    "test_Y = []\n",
    "\n",
    "for index, values in test_set.iterrows():\n",
    "    test_X.append([values['similarity_previous_rated_by_user'], values['popularity']])\n",
    "    test_Y.append(values['movie_serendipity'])"
   ]
  },
  {
   "cell_type": "markdown",
   "metadata": {},
   "source": [
    "# Logistic Regression"
   ]
  },
  {
   "cell_type": "code",
   "execution_count": 30,
   "metadata": {},
   "outputs": [],
   "source": [
    "from sklearn.linear_model import LogisticRegression\n",
    "clf = LogisticRegression(random_state=0).fit(train_X, train_Y)"
   ]
  },
  {
   "cell_type": "code",
   "execution_count": 31,
   "metadata": {},
   "outputs": [
    {
     "data": {
      "text/plain": [
       "0.7465277777777778"
      ]
     },
     "execution_count": 31,
     "metadata": {},
     "output_type": "execute_result"
    }
   ],
   "source": [
    "clf.score(test_X,test_Y)"
   ]
  },
  {
   "cell_type": "code",
   "execution_count": 32,
   "metadata": {},
   "outputs": [],
   "source": [
    "from sklearn.metrics import mean_squared_error\n",
    "y_pred = clf.predict(test_X)"
   ]
  },
  {
   "cell_type": "code",
   "execution_count": 33,
   "metadata": {},
   "outputs": [
    {
     "data": {
      "text/plain": [
       "0.2534722222222222"
      ]
     },
     "execution_count": 33,
     "metadata": {},
     "output_type": "execute_result"
    }
   ],
   "source": [
    "mean_squared_error(test_Y, y_pred)"
   ]
  },
  {
   "cell_type": "markdown",
   "metadata": {},
   "source": [
    "# Non-Linear"
   ]
  },
  {
   "cell_type": "code",
   "execution_count": 34,
   "metadata": {},
   "outputs": [
    {
     "data": {
      "text/plain": [
       "0.6701388888888888"
      ]
     },
     "execution_count": 34,
     "metadata": {},
     "output_type": "execute_result"
    }
   ],
   "source": [
    "from sklearn.tree import DecisionTreeClassifier\n",
    "\n",
    "regressor = DecisionTreeClassifier(random_state = 0)  \n",
    "regressor.fit(train_X, train_Y) \n",
    "regressor.score(test_X, test_Y) "
   ]
  },
  {
   "cell_type": "code",
   "execution_count": 35,
   "metadata": {},
   "outputs": [
    {
     "data": {
      "text/plain": [
       "0.3298611111111111"
      ]
     },
     "execution_count": 35,
     "metadata": {},
     "output_type": "execute_result"
    }
   ],
   "source": [
    "y_pred = regressor.predict(test_X)\n",
    "mean_squared_error(test_Y, y_pred)"
   ]
  },
  {
   "cell_type": "markdown",
   "metadata": {},
   "source": [
    "# Solver"
   ]
  },
  {
   "cell_type": "code",
   "execution_count": 36,
   "metadata": {},
   "outputs": [],
   "source": [
    "#minified movies categories with 10 movies per category\n",
    "min_cat_dict = {}\n",
    "\n",
    "for cat_id in cat_dict:\n",
    "    min_cat_dict[cat_id] = []\n",
    "    current_categories_movies = pd.DataFrame(\n",
    "    [int(cat_dict[cat_id][movie_index]), rated_movies_popularity[cat_dict[cat_id][movie_index]]] for movie_index in range(0, len(cat_dict[cat_id])) if cat_dict[cat_id][movie_index] in rated_movies_popularity)\n",
    "    current_categories_movies.columns = ['movieId', 'popularity']\n",
    "    current_categories_movies_ascending = current_categories_movies.sort_values(by='popularity')\n",
    "    current_categories_movies_ascending = current_categories_movies_ascending.reset_index()\n",
    "    for movie in current_categories_movies_ascending[0:10].iterrows():\n",
    "        min_cat_dict[cat_id].append(int(movie[1]['movieId']))"
   ]
  },
  {
   "cell_type": "code",
   "execution_count": 37,
   "metadata": {},
   "outputs": [],
   "source": [
    "all_movies_min = []\n",
    "\n",
    "for cat_id in min_cat_dict:\n",
    "    for movie_index in range(0, len(min_cat_dict[cat_id])):\n",
    "        all_movies_min.append(min_cat_dict[cat_id][movie_index])"
   ]
  },
  {
   "cell_type": "code",
   "execution_count": 38,
   "metadata": {},
   "outputs": [],
   "source": [
    "def selection_sort(x):\n",
    "    for i in range(len(x)):\n",
    "        swap = i + np.argmin(x[i:])\n",
    "        (x[i], x[swap]) = (x[swap], x[i])\n",
    "    return x"
   ]
  },
  {
   "cell_type": "code",
   "execution_count": 39,
   "metadata": {},
   "outputs": [],
   "source": [
    "params = []\n",
    "the_users = selection_sort(answers_df['userId'].unique())[0:10] #[0:int(len(all_movies_min)/2)]\n",
    "the_users = np.array(the_users).tolist()\n",
    "\n",
    "for index in range(0, len(all_movies_min)):\n",
    "    if index < len(the_users):\n",
    "        params.append({\n",
    "            \"movieId\": all_movies_min[index],\n",
    "            \"userId\": the_users[index],\n",
    "            \"recommendation\": 0\n",
    "        })\n",
    "    else:\n",
    "        params.append({\n",
    "            \"movieId\": all_movies_min[index],\n",
    "            \"userId\": 0,\n",
    "            \"recommendation\": 0\n",
    "        })\n",
    "    \n",
    "x_df = pd.DataFrame(params)"
   ]
  },
  {
   "cell_type": "code",
   "execution_count": 40,
   "metadata": {},
   "outputs": [],
   "source": [
    "# pivot ratings into movie features\n",
    "x_pivot = x_df.pivot(\n",
    "    index='movieId',\n",
    "    columns='userId',\n",
    "    values='recommendation'\n",
    ").fillna(0)"
   ]
  },
  {
   "cell_type": "code",
   "execution_count": 41,
   "metadata": {},
   "outputs": [],
   "source": [
    "from collections import defaultdict\n",
    "x_dict = {}\n",
    "for ind,row in x_pivot.iterrows():\n",
    "    dd = row.to_dict()\n",
    "    for us in dd:\n",
    "        if us > 0:\n",
    "            x_dict[(us,ind)] = dd[us]"
   ]
  },
  {
   "cell_type": "code",
   "execution_count": 42,
   "metadata": {},
   "outputs": [],
   "source": [
    "x_dict_keys = []\n",
    "for k in x_dict:\n",
    "    x_dict_keys.append(k)"
   ]
  },
  {
   "cell_type": "code",
   "execution_count": 43,
   "metadata": {},
   "outputs": [],
   "source": [
    "predicted = {}\n",
    "similarities_user_movies = {}\n",
    "for u in the_users:\n",
    "    for c in min_cat_dict:\n",
    "        for m in range(0, len(min_cat_dict[c])):\n",
    "            similarities_user_movies[(u,min_cat_dict[c][m])] = similarity_with_previous_rated_movies_by_user(u, min_cat_dict[c][m])\n",
    "            predicted[(similarities_user_movies[(u,min_cat_dict[c][m])], rated_movies_popularity[min_cat_dict[c][m]])] = clf.predict([[similarities_user_movies[(u,min_cat_dict[c][m])], rated_movies_popularity[min_cat_dict[c][m]]]])  "
   ]
  },
  {
   "cell_type": "code",
   "execution_count": 44,
   "metadata": {},
   "outputs": [],
   "source": [
    "for k1, k2 in predicted:\n",
    "    predicted[(k1,k2)] = predicted[(k1,k2)][0]"
   ]
  },
  {
   "cell_type": "code",
   "execution_count": 45,
   "metadata": {},
   "outputs": [],
   "source": [
    "import math\n",
    "from pyomo.environ import *\n",
    "import pyomo.environ as pyomo\n",
    "from pyomo.solvers import plugins\n",
    "import gurobi as GUROBI"
   ]
  },
  {
   "cell_type": "code",
   "execution_count": 59,
   "metadata": {},
   "outputs": [],
   "source": [
    "def serendipity_recommendation_solver(theta, recommendations_num, domainType = 0, with_disimilarity = 0):\n",
    "    Recs = x_dict_keys\n",
    "    model = pyomo.ConcreteModel()\n",
    "\n",
    "    model.Cats = Set(initialize=min_cat_dict.keys())\n",
    "    model.Users = Set(initialize=the_users)\n",
    "    model.Movies = Set(initialize=all_movies_min)\n",
    "\n",
    "    if domainType == 0:\n",
    "        model.x = pyomo.Var(Recs, bounds=(0,1), domain=Boolean)\n",
    "    else:\n",
    "        model.x = pyomo.Var(Recs, bounds=(0,1), domain=PositiveReals)\n",
    "    \n",
    "    \n",
    "    def maximun_recommendation_constraint(model, u):\n",
    "        return np.sum(np.sum(model.x[u, min_cat_dict[c][i]] for i in range(0, len(min_cat_dict[c]))) for c in model.Cats) == recommendations_num\n",
    "    \n",
    "    model.MaximumRecommendationConstraint = Constraint(model.Users, rule=maximun_recommendation_constraint)\n",
    "    \n",
    "    if with_disimilarity == 0:\n",
    "        def minimum_average_serendipity(model, c):\n",
    "            return (1/len(min_cat_dict[c]))*np.sum(np.sum(predicted[(similarity_with_previous_rated_movies_by_user(u, min_cat_dict[c][i]), rated_movies_popularity[min_cat_dict[c][i]])]*model.x[u, min_cat_dict[c][i]] for i in range(0, len(min_cat_dict[c]))) for u in model.Users) >= theta\n",
    "\n",
    "        model.Sc = pyomo.Constraint(model.Cats, rule=minimum_average_serendipity)\n",
    "\n",
    "        def maximizer_obj(model):\n",
    "            return (1/len(the_users))*np.sum(np.sum(predicted[(similarity_with_previous_rated_movies_by_user(u, all_movies_min[i]), rated_movies_popularity[all_movies_min[i]])]*model.x[u, all_movies_min[i]] for i in range(0, len(all_movies_min))) for u in model.Users)\n",
    "\n",
    "    else:\n",
    "        def minimum_average_serendipity(model, c):\n",
    "            return (1/len(min_cat_dict[c]))*np.sum(np.sum(predicted[(similarity_with_previous_rated_movies_by_user(u, min_cat_dict[c][i]), rated_movies_popularity[min_cat_dict[c][i]])]*model.x[u, min_cat_dict[c][i]] for i in range(0, len(min_cat_dict[c])))+np.sum(d[(min_cat_dict[c][i],all_movies_min[j])]*model.x[u,min_cat_dict[c][i]]*model.x[u,all_movies_min[j]] for j in range(0, len(all_movies_min)) for i in range(0, len(min_cat_dict[c])) if all_movies_min[j] != min_cat_dict[c][i]) for u in model.Users) >= theta\n",
    "\n",
    "        model.Sc = pyomo.Constraint(model.Cats, rule=minimum_average_serendipity)\n",
    "\n",
    "        def maximizer_obj(model):\n",
    "            return (1/len(the_users))*np.sum(np.sum(predicted[(similarity_with_previous_rated_movies_by_user(u, all_movies_min[i]), rated_movies_popularity[all_movies_min[i]])]*model.x[u, all_movies_min[i]] for i in range(0, len(all_movies_min)))+np.sum(d[(all_movies_min[i],all_movies_min[j])]*model.x[u,all_movies_min[i]]*model.x[u,all_movies_min[j]] for j in range(0, len(all_movies_min)) for i in range(0, len(all_movies_min)) if all_movies_min[j] != all_movies_min[i]) for u in model.Users)\n",
    "        \n",
    "    model.Obj = Objective(rule=maximizer_obj, sense=maximize)\n",
    "\n",
    "    \n",
    "    if with_disimilarity != 0 and domainType != 0:\n",
    "        solver = SolverFactory('ipopt')\n",
    "    else:    \n",
    "        solver = SolverFactory('gurobi', solver_io=\"python\")\n",
    "        if with_disimilarity != 0:\n",
    "            solver.options['timelimit'] = 10\n",
    "    results = solver.solve(model,tee=False)\n",
    "    \n",
    "    serendipity_recommendation_solver_solutions = {}\n",
    "\n",
    "    for rec in Recs:\n",
    "        if not model.x[rec]() is None and model.x[rec]() > 0:\n",
    "            serendipity_recommendation_solver_solutions[rec] = model.x[rec]()\n",
    "\n",
    "    if len(serendipity_recommendation_solver_solutions) > 0:\n",
    "        pairs_users = []\n",
    "        pairs_movies = []\n",
    "        pairs_recommendation = []\n",
    "\n",
    "        for pair in serendipity_recommendation_solver_solutions:\n",
    "            u = pair[0]\n",
    "            i = pair[1]\n",
    "            pairs_users.append(u)\n",
    "            pairs_movies.append(i)\n",
    "            recommendation = serendipity_recommendation_solver_solutions[pair]\n",
    "            pairs_recommendation.append(recommendation)\n",
    "\n",
    "        all_recommendations_ui = pd.DataFrame(\n",
    "            {'userId': pairs_users,\n",
    "             'movieId': pairs_movies,\n",
    "             'recommendation': pairs_recommendation\n",
    "            }).sort_values(by=['userId','recommendation'], ascending=False)\n",
    "\n",
    "        all_recommendations_ui_matrix = all_recommendations_ui.pivot(\n",
    "                index=\"userId\", columns=\"movieId\", values=\"recommendation\"\n",
    "            ).fillna(0)\n",
    "        \n",
    "        final_pairs_users = []\n",
    "        final_pairs_movies = []\n",
    "        final_pairs_recommendation = []\n",
    "        recommendations_per_user = {}\n",
    "\n",
    "        for u in the_users:\n",
    "            for index, row in all_recommendations_ui.loc[all_recommendations_ui['userId'] == u][0:recommendations_num].iterrows():\n",
    "                final_pairs_users.append(int(row['userId']))\n",
    "                final_pairs_movies.append(int(row['movieId']))\n",
    "                final_pairs_recommendation.append(row['recommendation'])\n",
    "                \n",
    "                if int(row['userId']) not in recommendations_per_user:\n",
    "                    recommendations_per_user[int(row['userId'])] = [int(row['movieId'])]\n",
    "                else:\n",
    "                    recommendations_per_user[int(row['userId'])].append(int(row['movieId']))\n",
    "        \n",
    "        final_recommendations_ui = pd.DataFrame(\n",
    "            {'userId': final_pairs_users,\n",
    "             'movieId': final_pairs_movies,\n",
    "             'recommendation': final_pairs_recommendation\n",
    "            }).sort_values(by=['userId', 'recommendation'], ascending=False)\n",
    "        \n",
    "        score = model.Obj()\n",
    "        \n",
    "        return score, all_recommendations_ui_matrix, final_recommendations_ui\n",
    "    else:\n",
    "        score = 0\n",
    "        return score, [], []\n",
    "    "
   ]
  },
  {
   "cell_type": "markdown",
   "metadata": {},
   "source": [
    "# Without disimilaritiy (d = 0)"
   ]
  },
  {
   "cell_type": "markdown",
   "metadata": {},
   "source": [
    "Boolean"
   ]
  },
  {
   "cell_type": "code",
   "execution_count": 46,
   "metadata": {},
   "outputs": [
    {
     "name": "stdout",
     "output_type": "stream",
     "text": [
      "Number of categories: 6 | Number of movies: 60 | Number of users: 10\n",
      "\n",
      "Maximization score: 2.0\n",
      "\n",
      "All model recommendations:\n",
      "movieId  32    153   293   316   367   457   588   590   595   858   1193  \\\n",
      "userId                                                                      \n",
      "100200    0.0   0.0   0.0   0.0   0.0   0.0   0.0   0.0   0.0   0.0   0.0   \n",
      "100269    0.0   0.0   0.0   0.0   0.0   0.0   0.0   1.0   0.0   0.0   0.0   \n",
      "100521    0.0   0.0   0.0   0.0   0.0   0.0   0.0   0.0   1.0   0.0   0.0   \n",
      "100972    0.0   1.0   0.0   0.0   0.0   0.0   0.0   0.0   0.0   0.0   0.0   \n",
      "100998    1.0   0.0   0.0   0.0   0.0   0.0   0.0   0.0   0.0   0.0   0.0   \n",
      "101049    0.0   0.0   0.0   0.0   1.0   0.0   0.0   0.0   0.0   0.0   0.0   \n",
      "101170    0.0   0.0   0.0   0.0   0.0   1.0   0.0   0.0   1.0   0.0   0.0   \n",
      "101263    0.0   0.0   1.0   0.0   0.0   0.0   0.0   0.0   0.0   1.0   0.0   \n",
      "101318    0.0   0.0   0.0   1.0   0.0   0.0   1.0   0.0   0.0   0.0   0.0   \n",
      "101579    0.0   0.0   0.0   0.0   0.0   0.0   0.0   0.0   0.0   0.0   1.0   \n",
      "\n",
      "movieId  1198  1213  1580  2762  2858  6377  6539  \n",
      "userId                                             \n",
      "100200    0.0   1.0   0.0   0.0   0.0   0.0   1.0  \n",
      "100269    0.0   0.0   1.0   0.0   0.0   0.0   0.0  \n",
      "100521    0.0   0.0   0.0   0.0   0.0   1.0   0.0  \n",
      "100972    0.0   0.0   0.0   1.0   0.0   0.0   0.0  \n",
      "100998    0.0   0.0   0.0   0.0   1.0   0.0   0.0  \n",
      "101049    1.0   0.0   0.0   0.0   0.0   0.0   0.0  \n",
      "101170    0.0   0.0   0.0   0.0   0.0   0.0   0.0  \n",
      "101263    0.0   0.0   0.0   0.0   0.0   0.0   0.0  \n",
      "101318    0.0   0.0   0.0   0.0   0.0   0.0   0.0  \n",
      "101579    0.0   0.0   0.0   0.0   1.0   0.0   0.0  \n",
      "\n",
      "The best L recommendations per user:\n",
      "    userId  movieId  recommendation\n",
      "18  101579     1193             1.0\n",
      "19  101579     2858             1.0\n",
      "16  101318      316             1.0\n",
      "17  101318      588             1.0\n",
      "14  101263      293             1.0\n",
      "15  101263      858             1.0\n",
      "12  101170      457             1.0\n",
      "13  101170      595             1.0\n",
      "10  101049      367             1.0\n",
      "11  101049     1198             1.0\n",
      "8   100998       32             1.0\n",
      "9   100998     2858             1.0\n",
      "6   100972      153             1.0\n",
      "7   100972     2762             1.0\n",
      "4   100521      595             1.0\n",
      "5   100521     6377             1.0\n",
      "2   100269      590             1.0\n",
      "3   100269     1580             1.0\n",
      "0   100200     1213             1.0\n",
      "1   100200     6539             1.0\n"
     ]
    }
   ],
   "source": [
    "#function parameters -> (theta, recommendations_num (e.g. 2, 3), Boolean/Continuous (0/1), with/without disimilarity (1/0))\n",
    "score, matrix, recommendations_pairs = serendipity_recommendation_solver(0.3, 2, 0)\n",
    "print('Number of categories:',len(min_cat_dict),'| Number of movies:',len(all_movies_min),'| Number of users:',len(the_users))\n",
    "print()    \n",
    "print('Maximization score:',score)\n",
    "print()\n",
    "print('All model recommendations:')\n",
    "print(matrix)\n",
    "print()\n",
    "print('The best L recommendations per user:')\n",
    "print(recommendations_pairs)"
   ]
  },
  {
   "cell_type": "code",
   "execution_count": null,
   "metadata": {},
   "outputs": [],
   "source": []
  },
  {
   "cell_type": "markdown",
   "metadata": {},
   "source": [
    "Continuous"
   ]
  },
  {
   "cell_type": "code",
   "execution_count": 49,
   "metadata": {},
   "outputs": [
    {
     "name": "stdout",
     "output_type": "stream",
     "text": [
      "Number of categories: 6 | Number of movies: 60 | Number of users: 10\n",
      "\n",
      "Maximization score: 2.0\n",
      "\n",
      "All model recommendations:\n",
      "movieId  10    32    293   588   590   592   595   608   780   858   ...  \\\n",
      "userId                                                               ...   \n",
      "100200    0.0   0.0   0.0   0.0   0.0   0.0   1.0   0.0   0.0   0.0  ...   \n",
      "100269    0.0   0.0   1.0   0.0   0.0   0.0   0.0   0.0   0.0   0.0  ...   \n",
      "100521    0.0   0.0   0.0   0.0   0.0   0.0   0.0   1.0   0.0   0.0  ...   \n",
      "100972    0.0   0.0   0.0   0.0   0.0   0.0   0.0   0.0   1.0   1.0  ...   \n",
      "100998    1.0   0.0   0.0   0.0   0.0   0.0   0.0   0.0   0.0   0.0  ...   \n",
      "101049    0.0   0.0   0.0   0.0   0.0   0.0   0.0   0.0   0.0   0.0  ...   \n",
      "101170    0.0   0.0   0.0   1.0   0.0   0.0   0.0   0.0   0.0   0.0  ...   \n",
      "101263    0.0   0.0   0.0   0.0   0.0   0.8   0.0   0.0   0.0   0.0  ...   \n",
      "101318    0.0   1.0   0.0   0.0   0.0   0.0   0.0   0.0   0.0   0.0  ...   \n",
      "101579    0.0   0.0   0.0   0.0   1.0   0.0   0.0   0.0   0.0   0.0  ...   \n",
      "\n",
      "movieId  1210  1213  1270  1580  1704  2628  2858  3578  6377  6539  \n",
      "userId                                                               \n",
      "100200    0.0   0.0   0.0   0.0   0.0   0.0   0.0   0.0   0.3   0.7  \n",
      "100269    0.0   0.0   0.0   0.0   1.0   0.0   0.0   0.0   0.0   0.0  \n",
      "100521    0.0   0.0   0.0   0.0   0.0   0.0   0.0   0.0   0.0   0.0  \n",
      "100972    0.0   0.0   0.0   0.0   0.0   0.0   0.0   0.0   0.0   0.0  \n",
      "100998    0.0   0.0   0.0   0.0   0.0   0.0   0.7   0.3   0.0   0.0  \n",
      "101049    1.0   0.0   1.0   0.0   0.0   0.0   0.0   0.0   0.0   0.0  \n",
      "101170    0.0   0.0   0.0   0.0   0.0   0.7   0.0   0.0   0.0   0.0  \n",
      "101263    0.0   1.0   0.0   0.0   0.0   0.0   0.0   0.0   0.0   0.2  \n",
      "101318    0.0   0.0   0.0   0.0   0.0   0.0   0.6   0.0   0.0   0.0  \n",
      "101579    0.0   0.0   0.0   1.0   0.0   0.0   0.0   0.0   0.0   0.0  \n",
      "\n",
      "[10 rows x 23 columns]\n",
      "\n",
      "The best L recommendations per user:\n",
      "    userId  movieId  recommendation\n",
      "18  101579      590             1.0\n",
      "19  101579     1580             1.0\n",
      "16  101318       32             1.0\n",
      "17  101318     2858             0.6\n",
      "14  101263     1213             1.0\n",
      "15  101263      592             0.8\n",
      "12  101170      588             1.0\n",
      "13  101170     2628             0.7\n",
      "10  101049     1210             1.0\n",
      "11  101049     1270             1.0\n",
      "8   100998       10             1.0\n",
      "9   100998     2858             0.7\n",
      "6   100972      780             1.0\n",
      "7   100972      858             1.0\n",
      "4   100521      608             1.0\n",
      "5   100521     1193             1.0\n",
      "2   100269      293             1.0\n",
      "3   100269     1704             1.0\n",
      "0   100200      595             1.0\n",
      "1   100200     6539             0.7\n"
     ]
    }
   ],
   "source": [
    "#function parameters -> (theta, recommendations_num (e.g. 2, 3), Boolean/Continuous (0/1), with/without disimilarity (1/0))\n",
    "score, matrix, recommendations_pairs = serendipity_recommendation_solver(0.33, 2, 1)\n",
    "print('Number of categories:',len(min_cat_dict),'| Number of movies:',len(all_movies_min),'| Number of users:',len(the_users))\n",
    "print()    \n",
    "print('Maximization score:',score)\n",
    "print()\n",
    "print('All model recommendations:')\n",
    "print(matrix)\n",
    "print()\n",
    "print('The best L recommendations per user:')\n",
    "print(recommendations_pairs)"
   ]
  },
  {
   "cell_type": "code",
   "execution_count": null,
   "metadata": {},
   "outputs": [],
   "source": []
  },
  {
   "cell_type": "markdown",
   "metadata": {},
   "source": [
    "# With dimisimilarity (d!=0)"
   ]
  },
  {
   "cell_type": "code",
   "execution_count": 47,
   "metadata": {},
   "outputs": [],
   "source": [
    "def movies_disimilarity(m1, m2):\n",
    "    number_of_criteria = 0\n",
    "    similarity_sum = 0\n",
    "    disimilarity = 1\n",
    "    \n",
    "    list1 = movies_df['directedBy'][movies_df.index[movies_df['movieId'] == m1][0]].split(',')\n",
    "    list2 = movies_df['directedBy'][movies_df.index[movies_df['movieId'] == m2][0]].split(',')\n",
    "    intersection = len(list(set(list1).intersection(list2)))\n",
    "    union = (len(list1) + len(list2)) - intersection\n",
    "    similarity_sum += float(intersection) / union\n",
    "    number_of_criteria += 1\n",
    "\n",
    "    list1 = movies_df['starring'][movies_df.index[movies_df['movieId'] == m1][0]].split(',')\n",
    "    list2 = movies_df['starring'][movies_df.index[movies_df['movieId'] == m2][0]].split(',')\n",
    "    intersection = len(list(set(list1).intersection(list2)))\n",
    "    union = (len(list1) + len(list2)) - intersection\n",
    "    similarity_sum += float(intersection) / union\n",
    "    number_of_criteria += 1\n",
    "\n",
    "    list1 = movies_df['genres'][movies_df.index[movies_df['movieId'] == m1][0]].split(',')\n",
    "    list2 = movies_df['genres'][movies_df.index[movies_df['movieId'] == m2][0]].split(',')\n",
    "    intersection = len(list(set(list1).intersection(list2)))\n",
    "    union = (len(list1) + len(list2)) - intersection\n",
    "    similarity_sum += float(intersection) / union\n",
    "    number_of_criteria += 1\n",
    "\n",
    "    if number_of_criteria > 0:\n",
    "        similarity = similarity_sum / number_of_criteria\n",
    "        disimilarity = disimilarity - similarity\n",
    "    \n",
    "    return disimilarity    "
   ]
  },
  {
   "cell_type": "code",
   "execution_count": 48,
   "metadata": {},
   "outputs": [],
   "source": [
    "d = {}\n",
    "for m1 in range(0, len(all_movies_min)):\n",
    "    for m2 in range(0, len(all_movies_min)):\n",
    "        if all_movies_min[m1] != all_movies_min[m2]:\n",
    "            d[(all_movies_min[m1],all_movies_min[m2])] = movies_disimilarity(all_movies_min[m1], all_movies_min[m2])"
   ]
  },
  {
   "cell_type": "markdown",
   "metadata": {},
   "source": [
    "Boolean"
   ]
  },
  {
   "cell_type": "code",
   "execution_count": 52,
   "metadata": {},
   "outputs": [
    {
     "name": "stdout",
     "output_type": "stream",
     "text": [
      "WARNING: Loading a SolverResults object with an 'aborted' status, but\n",
      "    containing a solution\n",
      "Number of categories: 6 | Number of movies: 60 | Number of users: 10\n",
      "\n",
      "Maximization score: 9.0\n",
      "\n",
      "All model recommendations:\n",
      "movieId  10    47    457   595   597   1214  1265  2762\n",
      "userId                                                 \n",
      "100200    0.0   1.0   0.0   1.0   0.0   1.0   0.0   0.0\n",
      "100269    0.0   0.0   1.0   0.0   1.0   0.0   0.0   1.0\n",
      "100521    0.0   0.0   1.0   0.0   1.0   0.0   0.0   1.0\n",
      "100972    0.0   1.0   0.0   1.0   0.0   1.0   0.0   0.0\n",
      "100998    1.0   0.0   0.0   0.0   0.0   0.0   1.0   1.0\n",
      "101049    0.0   1.0   0.0   0.0   1.0   1.0   0.0   0.0\n",
      "101170    0.0   0.0   1.0   1.0   0.0   0.0   0.0   1.0\n",
      "101263    0.0   0.0   1.0   1.0   0.0   0.0   0.0   1.0\n",
      "101318    0.0   0.0   1.0   1.0   0.0   0.0   0.0   1.0\n",
      "101579    0.0   0.0   1.0   0.0   0.0   0.0   1.0   1.0\n",
      "\n",
      "The best L recommendations per user:\n",
      "    userId  movieId  recommendation\n",
      "27  101579      457             1.0\n",
      "28  101579     1265             1.0\n",
      "29  101579     2762             1.0\n",
      "24  101318      457             1.0\n",
      "25  101318      595             1.0\n",
      "26  101318     2762             1.0\n",
      "21  101263      457             1.0\n",
      "22  101263      595             1.0\n",
      "23  101263     2762             1.0\n",
      "18  101170      457             1.0\n",
      "19  101170      595             1.0\n",
      "20  101170     2762             1.0\n",
      "15  101049       47             1.0\n",
      "16  101049      597             1.0\n",
      "17  101049     1214             1.0\n",
      "12  100998       10             1.0\n",
      "13  100998     1265             1.0\n",
      "14  100998     2762             1.0\n",
      "9   100972       47             1.0\n",
      "10  100972      595             1.0\n",
      "11  100972     1214             1.0\n",
      "6   100521      457             1.0\n",
      "7   100521      597             1.0\n",
      "8   100521     2762             1.0\n",
      "3   100269      457             1.0\n",
      "4   100269      597             1.0\n",
      "5   100269     2762             1.0\n",
      "0   100200       47             1.0\n",
      "1   100200      595             1.0\n",
      "2   100200     1214             1.0\n"
     ]
    }
   ],
   "source": [
    "#function parameters -> (theta, recommendations_num (e.g. 2, 3), Boolean/Continuous (0/1), with/without disimilarity (1/0))\n",
    "score, matrix, recommendations_pairs = serendipity_recommendation_solver(0.4, 3, 0, 1)\n",
    "print('Number of categories:',len(min_cat_dict),'| Number of movies:',len(all_movies_min),'| Number of users:',len(the_users))\n",
    "print()    \n",
    "print('Maximization score:',score)\n",
    "print()\n",
    "print('All model recommendations:')\n",
    "print(matrix)\n",
    "print()\n",
    "print('The best L recommendations per user:')\n",
    "print(recommendations_pairs)"
   ]
  },
  {
   "cell_type": "code",
   "execution_count": null,
   "metadata": {},
   "outputs": [],
   "source": []
  },
  {
   "cell_type": "markdown",
   "metadata": {},
   "source": [
    "Continuous"
   ]
  },
  {
   "cell_type": "code",
   "execution_count": 53,
   "metadata": {},
   "outputs": [
    {
     "name": "stdout",
     "output_type": "stream",
     "text": [
      "Number of categories: 6 | Number of movies: 60 | Number of users: 10\n",
      "\n",
      "Maximization score: 5.7026049222484945\n",
      "\n",
      "All model recommendations:\n",
      "movieId         1         10        32            47            50     \\\n",
      "userId                                                                  \n",
      "100200   0.000000e+00  0.017987  0.052549  1.035769e-01  4.856085e-02   \n",
      "100269   0.000000e+00  0.029677  0.082491  1.271015e-09  2.115749e-10   \n",
      "100521   2.210818e-11  0.025468  0.083667  1.294348e-09  3.076919e-10   \n",
      "100972   0.000000e+00  0.018085  0.051884  1.031181e-01  4.879277e-02   \n",
      "100998   4.331618e-11  0.034835  0.097761  1.771348e-09  5.394006e-10   \n",
      "101049   0.000000e+00  0.018085  0.051884  1.031181e-01  4.879277e-02   \n",
      "101170   7.621493e-12  0.026546  0.083229  1.281337e-09  2.452699e-10   \n",
      "101263   3.760401e-12  0.025618  0.083750  1.284018e-09  2.492611e-10   \n",
      "101318   8.691885e-11  0.026844  0.082926  1.336827e-09  3.408280e-10   \n",
      "101579   1.284454e-11  0.025798  0.083692  1.287629e-09  3.056928e-10   \n",
      "\n",
      "movieId         110           150       153       293       316    ...  \\\n",
      "userId                                                             ...   \n",
      "100200   7.994863e-10  5.086779e-02  0.009548  0.003517  0.014190  ...   \n",
      "100269   8.309356e-10  5.330111e-02  0.011057  0.008814  0.032518  ...   \n",
      "100521   8.012169e-10  5.679736e-11  0.010870  0.012049  0.030150  ...   \n",
      "100972   7.432491e-10  4.858200e-02  0.010156  0.002420  0.013692  ...   \n",
      "100998   8.233303e-10  8.810224e-11  0.014978  0.016406  0.028577  ...   \n",
      "101049   7.432491e-10  4.858200e-02  0.010156  0.002420  0.013692  ...   \n",
      "101170   7.605357e-10  7.766874e-12  0.009194  0.007762  0.029682  ...   \n",
      "101263   7.835003e-10  5.207779e-02  0.007891  0.008485  0.028996  ...   \n",
      "101318   7.397964e-10  5.545010e-02  0.009603  0.010536  0.030266  ...   \n",
      "101579   8.015207e-10  4.662101e-11  0.010898  0.012081  0.029882  ...   \n",
      "\n",
      "movieId         2858          3578      3793      4886          4993   \\\n",
      "userId                                                                  \n",
      "100200   1.387380e-10  1.436318e-07  0.006369  0.040722  3.712404e-02   \n",
      "100269   1.498899e-10  1.473902e-07  0.030281  0.043061  4.012127e-02   \n",
      "100521   7.794922e-02  1.425686e-07  0.028144  0.044822  8.129699e-02   \n",
      "100972   7.344289e-02  1.372035e-07  0.005961  0.040734  3.670744e-02   \n",
      "100998   7.932177e-02  1.256698e-07  0.026150  0.046375  4.203443e-02   \n",
      "101049   7.344289e-02  1.372035e-07  0.005961  0.040734  3.670744e-02   \n",
      "101170   7.559251e-02  1.370980e-07  0.027522  0.043790  3.987164e-02   \n",
      "101263   1.482991e-10  1.257902e-07  0.027025  0.043522  0.000000e+00   \n",
      "101318   7.642684e-02  1.191030e-07  0.029456  0.049305  3.993664e-10   \n",
      "101579   7.790779e-02  1.410252e-07  0.027720  0.044176  4.060176e-02   \n",
      "\n",
      "movieId         5952      6377      6539          7153      58559  \n",
      "userId                                                             \n",
      "100200   4.504151e-02  0.054575  0.013498  1.061286e-07  0.043172  \n",
      "100269   4.903949e-02  0.057825  0.015699  9.736602e-08  0.046125  \n",
      "100521   0.000000e+00  0.058545  0.014254  1.109680e-07  0.054327  \n",
      "100972   4.495200e-02  0.054251  0.013996  1.033758e-07  0.041989  \n",
      "100998   5.148995e-02  0.060474  0.012501  8.816175e-08  0.053295  \n",
      "101049   4.495200e-02  0.054251  0.013996  1.033758e-07  0.041989  \n",
      "101170   4.873358e-02  0.058007  0.013994  9.466433e-08  0.049035  \n",
      "101263   7.920336e-02  0.056921  0.013682  1.063337e-07  0.044840  \n",
      "101318   4.333655e-10  0.057966  0.019650  1.362962e-02  0.047596  \n",
      "101579   4.910158e-02  0.058419  0.013413  9.557039e-08  0.054325  \n",
      "\n",
      "[10 rows x 54 columns]\n",
      "\n",
      "The best L recommendations per user:\n",
      "    userId  movieId  recommendation\n",
      "18  101579     1214        0.117238\n",
      "19  101579      457        0.110384\n",
      "16  101318     1214        0.119518\n",
      "17  101318      457        0.112080\n",
      "14  101263     1214        0.117297\n",
      "15  101263      457        0.110118\n",
      "12  101170     1214        0.116093\n",
      "13  101170      457        0.110068\n",
      "10  101049     1214        0.113630\n",
      "11  101049       47        0.103118\n",
      "8   100998     1214        0.121918\n",
      "9   100998      595        0.105520\n",
      "6   100972     1214        0.113630\n",
      "7   100972       47        0.103118\n",
      "4   100521     1214        0.116824\n",
      "5   100521      457        0.110696\n",
      "2   100269     1214        0.116078\n",
      "3   100269      457        0.111438\n",
      "0   100200     1214        0.114562\n",
      "1   100200       47        0.103577\n"
     ]
    }
   ],
   "source": [
    "#function parameters -> (theta, recommendations_num (e.g. 2, 3), Boolean/Continuous (0/1), with/without disimilarity (1/0))\n",
    "score, matrix, recommendations_pairs = serendipity_recommendation_solver(0.4, 2, 1, 1)\n",
    "print('Number of categories:',len(min_cat_dict),'| Number of movies:',len(all_movies_min),'| Number of users:',len(the_users))\n",
    "print()    \n",
    "print('Maximization score:',score)\n",
    "print()\n",
    "print('All model recommendations:')\n",
    "print(matrix)\n",
    "print()\n",
    "print('The best L recommendations per user:')\n",
    "print(recommendations_pairs)"
   ]
  },
  {
   "cell_type": "code",
   "execution_count": null,
   "metadata": {},
   "outputs": [],
   "source": []
  },
  {
   "cell_type": "markdown",
   "metadata": {},
   "source": [
    "# Plots"
   ]
  },
  {
   "cell_type": "code",
   "execution_count": 49,
   "metadata": {},
   "outputs": [],
   "source": [
    "import matplotlib.pyplot as plt"
   ]
  },
  {
   "cell_type": "code",
   "execution_count": 50,
   "metadata": {},
   "outputs": [],
   "source": [
    "theta_values = [0.25, 0.3, 0.35, 0.4, 0.45, 0.5]\n",
    "recommendations_values = [2, 3]"
   ]
  },
  {
   "cell_type": "markdown",
   "metadata": {},
   "source": [
    "Without disimilarity (d != 0)"
   ]
  },
  {
   "cell_type": "markdown",
   "metadata": {},
   "source": [
    "Boolean"
   ]
  },
  {
   "cell_type": "code",
   "execution_count": 66,
   "metadata": {},
   "outputs": [],
   "source": [
    "theta_results = []\n",
    "recommendations_results = []\n",
    "serendipity_results_boolean = []\n",
    "max_score_boolean = []"
   ]
  },
  {
   "cell_type": "code",
   "execution_count": 67,
   "metadata": {},
   "outputs": [
    {
     "name": "stdout",
     "output_type": "stream",
     "text": [
      "WARNING: Loading a SolverResults object with a warning status into\n",
      "    model=unknown;\n",
      "        message from solver=<undefined>\n",
      "WARNING: Loading a SolverResults object with a warning status into\n",
      "    model=unknown;\n",
      "        message from solver=<undefined>\n",
      "WARNING: Loading a SolverResults object with a warning status into\n",
      "    model=unknown;\n",
      "        message from solver=<undefined>\n",
      "WARNING: Loading a SolverResults object with a warning status into\n",
      "    model=unknown;\n",
      "        message from solver=<undefined>\n"
     ]
    }
   ],
   "source": [
    "for theta in theta_values:\n",
    "    for recommendations in recommendations_values:\n",
    "        theta_results.append(theta)\n",
    "        recommendations_results.append(recommendations)\n",
    "        score, matrix, recommendations_pairs = serendipity_recommendation_solver(theta, recommendations, 0)\n",
    "        max_score_boolean.append(score)\n",
    "        total_serendipity = 0\n",
    "        if len(recommendations_pairs) > 0:\n",
    "            for u in recommendations_pairs['userId'].unique():\n",
    "                for m in recommendations_pairs['movieId'].unique():\n",
    "                    total_serendipity += predicted[(similarities_user_movies[(u,m)], rated_movies_popularity[m])]\n",
    "        serendipity_results_boolean.append(total_serendipity)"
   ]
  },
  {
   "cell_type": "code",
   "execution_count": 68,
   "metadata": {},
   "outputs": [
    {
     "data": {
      "text/plain": [
       "[166.0, 198.0, 166.0, 198.0, 0, 248.0, 0, 248.0, 0, 233.0, 0, 233.0]"
      ]
     },
     "execution_count": 68,
     "metadata": {},
     "output_type": "execute_result"
    }
   ],
   "source": [
    "serendipity_results_boolean"
   ]
  },
  {
   "cell_type": "code",
   "execution_count": 69,
   "metadata": {},
   "outputs": [
    {
     "data": {
      "text/plain": [
       "[2.0, 3.0, 2.0, 3.0, 0, 3.0, 0, 3.0, 0, 3.0, 0, 3.0]"
      ]
     },
     "execution_count": 69,
     "metadata": {},
     "output_type": "execute_result"
    }
   ],
   "source": [
    "max_score_boolean"
   ]
  },
  {
   "cell_type": "code",
   "execution_count": 101,
   "metadata": {},
   "outputs": [],
   "source": [
    "serendipity_results_boolean_df = pd.DataFrame(\n",
    "            {'theta': theta_results,\n",
    "             'serendipity_indexes': serendipity_results_boolean,\n",
    "             'L': recommendations_results,\n",
    "             'max_score': max_score_boolean\n",
    "            })"
   ]
  },
  {
   "cell_type": "code",
   "execution_count": 102,
   "metadata": {},
   "outputs": [
    {
     "data": {
      "text/html": [
       "<div>\n",
       "<style scoped>\n",
       "    .dataframe tbody tr th:only-of-type {\n",
       "        vertical-align: middle;\n",
       "    }\n",
       "\n",
       "    .dataframe tbody tr th {\n",
       "        vertical-align: top;\n",
       "    }\n",
       "\n",
       "    .dataframe thead th {\n",
       "        text-align: right;\n",
       "    }\n",
       "</style>\n",
       "<table border=\"1\" class=\"dataframe\">\n",
       "  <thead>\n",
       "    <tr style=\"text-align: right;\">\n",
       "      <th></th>\n",
       "      <th>theta</th>\n",
       "      <th>serendipity_indexes</th>\n",
       "      <th>L</th>\n",
       "      <th>max_score</th>\n",
       "    </tr>\n",
       "  </thead>\n",
       "  <tbody>\n",
       "    <tr>\n",
       "      <th>0</th>\n",
       "      <td>0.25</td>\n",
       "      <td>166.0</td>\n",
       "      <td>2</td>\n",
       "      <td>2.0</td>\n",
       "    </tr>\n",
       "    <tr>\n",
       "      <th>1</th>\n",
       "      <td>0.25</td>\n",
       "      <td>198.0</td>\n",
       "      <td>3</td>\n",
       "      <td>3.0</td>\n",
       "    </tr>\n",
       "    <tr>\n",
       "      <th>2</th>\n",
       "      <td>0.30</td>\n",
       "      <td>166.0</td>\n",
       "      <td>2</td>\n",
       "      <td>2.0</td>\n",
       "    </tr>\n",
       "    <tr>\n",
       "      <th>3</th>\n",
       "      <td>0.30</td>\n",
       "      <td>198.0</td>\n",
       "      <td>3</td>\n",
       "      <td>3.0</td>\n",
       "    </tr>\n",
       "    <tr>\n",
       "      <th>4</th>\n",
       "      <td>0.35</td>\n",
       "      <td>0.0</td>\n",
       "      <td>2</td>\n",
       "      <td>0.0</td>\n",
       "    </tr>\n",
       "    <tr>\n",
       "      <th>5</th>\n",
       "      <td>0.35</td>\n",
       "      <td>248.0</td>\n",
       "      <td>3</td>\n",
       "      <td>3.0</td>\n",
       "    </tr>\n",
       "    <tr>\n",
       "      <th>6</th>\n",
       "      <td>0.40</td>\n",
       "      <td>0.0</td>\n",
       "      <td>2</td>\n",
       "      <td>0.0</td>\n",
       "    </tr>\n",
       "    <tr>\n",
       "      <th>7</th>\n",
       "      <td>0.40</td>\n",
       "      <td>248.0</td>\n",
       "      <td>3</td>\n",
       "      <td>3.0</td>\n",
       "    </tr>\n",
       "    <tr>\n",
       "      <th>8</th>\n",
       "      <td>0.45</td>\n",
       "      <td>0.0</td>\n",
       "      <td>2</td>\n",
       "      <td>0.0</td>\n",
       "    </tr>\n",
       "    <tr>\n",
       "      <th>9</th>\n",
       "      <td>0.45</td>\n",
       "      <td>233.0</td>\n",
       "      <td>3</td>\n",
       "      <td>3.0</td>\n",
       "    </tr>\n",
       "    <tr>\n",
       "      <th>10</th>\n",
       "      <td>0.50</td>\n",
       "      <td>0.0</td>\n",
       "      <td>2</td>\n",
       "      <td>0.0</td>\n",
       "    </tr>\n",
       "    <tr>\n",
       "      <th>11</th>\n",
       "      <td>0.50</td>\n",
       "      <td>233.0</td>\n",
       "      <td>3</td>\n",
       "      <td>3.0</td>\n",
       "    </tr>\n",
       "  </tbody>\n",
       "</table>\n",
       "</div>"
      ],
      "text/plain": [
       "    theta  serendipity_indexes  L  max_score\n",
       "0    0.25                166.0  2        2.0\n",
       "1    0.25                198.0  3        3.0\n",
       "2    0.30                166.0  2        2.0\n",
       "3    0.30                198.0  3        3.0\n",
       "4    0.35                  0.0  2        0.0\n",
       "5    0.35                248.0  3        3.0\n",
       "6    0.40                  0.0  2        0.0\n",
       "7    0.40                248.0  3        3.0\n",
       "8    0.45                  0.0  2        0.0\n",
       "9    0.45                233.0  3        3.0\n",
       "10   0.50                  0.0  2        0.0\n",
       "11   0.50                233.0  3        3.0"
      ]
     },
     "execution_count": 102,
     "metadata": {},
     "output_type": "execute_result"
    }
   ],
   "source": [
    "serendipity_results_boolean_df"
   ]
  },
  {
   "cell_type": "code",
   "execution_count": 72,
   "metadata": {},
   "outputs": [
    {
     "data": {
      "image/png": "[encoded data removed]",
      "text/plain": [
       "<Figure size 720x360 with 1 Axes>"
      ]
     },
     "metadata": {
      "needs_background": "light"
     },
     "output_type": "display_data"
    }
   ],
   "source": [
    "df1 = serendipity_results_boolean_df.loc[serendipity_results_boolean_df['L'] == 2]\n",
    "df2 = serendipity_results_boolean_df.loc[serendipity_results_boolean_df['L'] == 3]\n",
    "\n",
    "plt.figure(figsize=(10, 5))\n",
    "plt.scatter(df1.theta, df1.max_score, c='orange', s=80, label='L = 2')\n",
    "plt.scatter(df1.theta, df2.max_score, c='green', s=80, label='L = 3')\n",
    "plt.legend()\n",
    "plt.tight_layout()\n",
    "plt.title('Total serendipity for binary X with d = 0')\n",
    "plt.show()"
   ]
  },
  {
   "cell_type": "code",
   "execution_count": null,
   "metadata": {},
   "outputs": [],
   "source": []
  },
  {
   "cell_type": "markdown",
   "metadata": {},
   "source": [
    "Continuous"
   ]
  },
  {
   "cell_type": "code",
   "execution_count": 73,
   "metadata": {},
   "outputs": [],
   "source": [
    "theta_results = []\n",
    "recommendations_results = []\n",
    "serendipity_results_cont = []\n",
    "max_score_cont = []"
   ]
  },
  {
   "cell_type": "code",
   "execution_count": 74,
   "metadata": {},
   "outputs": [
    {
     "name": "stdout",
     "output_type": "stream",
     "text": [
      "WARNING: Loading a SolverResults object with a warning status into\n",
      "    model=unknown;\n",
      "        message from solver=<undefined>\n",
      "WARNING: Loading a SolverResults object with a warning status into\n",
      "    model=unknown;\n",
      "        message from solver=<undefined>\n",
      "WARNING: Loading a SolverResults object with a warning status into\n",
      "    model=unknown;\n",
      "        message from solver=<undefined>\n",
      "WARNING: Loading a SolverResults object with a warning status into\n",
      "    model=unknown;\n",
      "        message from solver=<undefined>\n"
     ]
    }
   ],
   "source": [
    "for theta in theta_values:\n",
    "    for recommendations in recommendations_values:\n",
    "        theta_results.append(theta)\n",
    "        recommendations_results.append(recommendations)\n",
    "        score, matrix, recommendations_pairs = serendipity_recommendation_solver(theta, recommendations, 1)\n",
    "        total_serendipity = 0\n",
    "        max_score_cont.append(score)\n",
    "        if len(recommendations_pairs) > 0:\n",
    "            for u in recommendations_pairs['userId'].unique():\n",
    "                for m in recommendations_pairs['movieId'].unique():\n",
    "                    total_serendipity += predicted[(similarities_user_movies[(u,m)], rated_movies_popularity[m])]\n",
    "        serendipity_results_cont.append(total_serendipity)"
   ]
  },
  {
   "cell_type": "code",
   "execution_count": 75,
   "metadata": {},
   "outputs": [
    {
     "data": {
      "text/plain": [
       "[186.0, 222.0, 168.0, 232.0, 0, 232.0, 0, 213.0, 0, 247.0, 0, 221.0]"
      ]
     },
     "execution_count": 75,
     "metadata": {},
     "output_type": "execute_result"
    }
   ],
   "source": [
    "serendipity_results_cont"
   ]
  },
  {
   "cell_type": "code",
   "execution_count": 76,
   "metadata": {},
   "outputs": [
    {
     "data": {
      "text/plain": [
       "[2.0, 3.0, 2.0, 3.0, 0, 3.0, 0, 3.0, 0, 3.0, 0, 3.0]"
      ]
     },
     "execution_count": 76,
     "metadata": {},
     "output_type": "execute_result"
    }
   ],
   "source": [
    "max_score_cont"
   ]
  },
  {
   "cell_type": "code",
   "execution_count": 99,
   "metadata": {},
   "outputs": [],
   "source": [
    "serendipity_results_cont_df = pd.DataFrame(\n",
    "            {'theta': theta_results,\n",
    "             'serendipity_indexes': serendipity_results_cont,\n",
    "             'L': recommendations_results,\n",
    "             'max_score': max_score_cont\n",
    "            })"
   ]
  },
  {
   "cell_type": "code",
   "execution_count": 100,
   "metadata": {},
   "outputs": [
    {
     "data": {
      "text/html": [
       "<div>\n",
       "<style scoped>\n",
       "    .dataframe tbody tr th:only-of-type {\n",
       "        vertical-align: middle;\n",
       "    }\n",
       "\n",
       "    .dataframe tbody tr th {\n",
       "        vertical-align: top;\n",
       "    }\n",
       "\n",
       "    .dataframe thead th {\n",
       "        text-align: right;\n",
       "    }\n",
       "</style>\n",
       "<table border=\"1\" class=\"dataframe\">\n",
       "  <thead>\n",
       "    <tr style=\"text-align: right;\">\n",
       "      <th></th>\n",
       "      <th>theta</th>\n",
       "      <th>serendipity_indexes</th>\n",
       "      <th>L</th>\n",
       "      <th>max_score</th>\n",
       "    </tr>\n",
       "  </thead>\n",
       "  <tbody>\n",
       "    <tr>\n",
       "      <th>0</th>\n",
       "      <td>0.25</td>\n",
       "      <td>186.0</td>\n",
       "      <td>2</td>\n",
       "      <td>2.0</td>\n",
       "    </tr>\n",
       "    <tr>\n",
       "      <th>1</th>\n",
       "      <td>0.25</td>\n",
       "      <td>222.0</td>\n",
       "      <td>3</td>\n",
       "      <td>3.0</td>\n",
       "    </tr>\n",
       "    <tr>\n",
       "      <th>2</th>\n",
       "      <td>0.30</td>\n",
       "      <td>168.0</td>\n",
       "      <td>2</td>\n",
       "      <td>2.0</td>\n",
       "    </tr>\n",
       "    <tr>\n",
       "      <th>3</th>\n",
       "      <td>0.30</td>\n",
       "      <td>232.0</td>\n",
       "      <td>3</td>\n",
       "      <td>3.0</td>\n",
       "    </tr>\n",
       "    <tr>\n",
       "      <th>4</th>\n",
       "      <td>0.35</td>\n",
       "      <td>0.0</td>\n",
       "      <td>2</td>\n",
       "      <td>0.0</td>\n",
       "    </tr>\n",
       "    <tr>\n",
       "      <th>5</th>\n",
       "      <td>0.35</td>\n",
       "      <td>232.0</td>\n",
       "      <td>3</td>\n",
       "      <td>3.0</td>\n",
       "    </tr>\n",
       "    <tr>\n",
       "      <th>6</th>\n",
       "      <td>0.40</td>\n",
       "      <td>0.0</td>\n",
       "      <td>2</td>\n",
       "      <td>0.0</td>\n",
       "    </tr>\n",
       "    <tr>\n",
       "      <th>7</th>\n",
       "      <td>0.40</td>\n",
       "      <td>213.0</td>\n",
       "      <td>3</td>\n",
       "      <td>3.0</td>\n",
       "    </tr>\n",
       "    <tr>\n",
       "      <th>8</th>\n",
       "      <td>0.45</td>\n",
       "      <td>0.0</td>\n",
       "      <td>2</td>\n",
       "      <td>0.0</td>\n",
       "    </tr>\n",
       "    <tr>\n",
       "      <th>9</th>\n",
       "      <td>0.45</td>\n",
       "      <td>247.0</td>\n",
       "      <td>3</td>\n",
       "      <td>3.0</td>\n",
       "    </tr>\n",
       "    <tr>\n",
       "      <th>10</th>\n",
       "      <td>0.50</td>\n",
       "      <td>0.0</td>\n",
       "      <td>2</td>\n",
       "      <td>0.0</td>\n",
       "    </tr>\n",
       "    <tr>\n",
       "      <th>11</th>\n",
       "      <td>0.50</td>\n",
       "      <td>221.0</td>\n",
       "      <td>3</td>\n",
       "      <td>3.0</td>\n",
       "    </tr>\n",
       "  </tbody>\n",
       "</table>\n",
       "</div>"
      ],
      "text/plain": [
       "    theta  serendipity_indexes  L  max_score\n",
       "0    0.25                186.0  2        2.0\n",
       "1    0.25                222.0  3        3.0\n",
       "2    0.30                168.0  2        2.0\n",
       "3    0.30                232.0  3        3.0\n",
       "4    0.35                  0.0  2        0.0\n",
       "5    0.35                232.0  3        3.0\n",
       "6    0.40                  0.0  2        0.0\n",
       "7    0.40                213.0  3        3.0\n",
       "8    0.45                  0.0  2        0.0\n",
       "9    0.45                247.0  3        3.0\n",
       "10   0.50                  0.0  2        0.0\n",
       "11   0.50                221.0  3        3.0"
      ]
     },
     "execution_count": 100,
     "metadata": {},
     "output_type": "execute_result"
    }
   ],
   "source": [
    "serendipity_results_cont_df"
   ]
  },
  {
   "cell_type": "code",
   "execution_count": 79,
   "metadata": {},
   "outputs": [
    {
     "data": {
      "image/png": "[encoded data removed]",
      "text/plain": [
       "<Figure size 720x360 with 1 Axes>"
      ]
     },
     "metadata": {
      "needs_background": "light"
     },
     "output_type": "display_data"
    }
   ],
   "source": [
    "df1 = serendipity_results_cont_df.loc[serendipity_results_cont_df['L'] == 2]\n",
    "df2 = serendipity_results_cont_df.loc[serendipity_results_cont_df['L'] == 3]\n",
    "\n",
    "plt.figure(figsize=(10, 5))\n",
    "plt.scatter(df1.theta, df1.max_score, c='orange', s=80, label='L = 2')\n",
    "plt.scatter(df1.theta, df2.max_score, c='green', s=80, label='L = 3')\n",
    "plt.legend()\n",
    "plt.tight_layout()\n",
    "plt.title('Total serendipity for continuous X with d = 0')\n",
    "plt.show()"
   ]
  },
  {
   "cell_type": "code",
   "execution_count": null,
   "metadata": {},
   "outputs": [],
   "source": []
  },
  {
   "cell_type": "markdown",
   "metadata": {},
   "source": [
    "With disimilarity (d = 0)"
   ]
  },
  {
   "cell_type": "markdown",
   "metadata": {},
   "source": [
    "Boolean"
   ]
  },
  {
   "cell_type": "code",
   "execution_count": 80,
   "metadata": {},
   "outputs": [],
   "source": [
    "theta_results = []\n",
    "recommendations_results = []\n",
    "serendipity_results_wd_boolean = []\n",
    "max_score_boolean_wd = []"
   ]
  },
  {
   "cell_type": "code",
   "execution_count": 81,
   "metadata": {},
   "outputs": [
    {
     "name": "stdout",
     "output_type": "stream",
     "text": [
      "WARNING: Loading a SolverResults object with an 'aborted' status, but\n",
      "    containing a solution\n",
      "WARNING: Loading a SolverResults object with an 'aborted' status, but\n",
      "    containing a solution\n",
      "WARNING: Loading a SolverResults object with an 'aborted' status, but\n",
      "    containing a solution\n",
      "WARNING: Loading a SolverResults object with an 'aborted' status, but\n",
      "    containing a solution\n",
      "WARNING: Loading a SolverResults object with an 'aborted' status, but\n",
      "    containing a solution\n",
      "WARNING: Loading a SolverResults object with an 'aborted' status, but\n",
      "    containing a solution\n",
      "WARNING: Loading a SolverResults object with an 'aborted' status, but\n",
      "    containing a solution\n",
      "WARNING: Loading a SolverResults object with an 'aborted' status, but\n",
      "    containing a solution\n",
      "WARNING: Loading a SolverResults object with an 'aborted' status, but\n",
      "    containing a solution\n",
      "WARNING: Loading a SolverResults object with an 'aborted' status, but\n",
      "    containing a solution\n",
      "WARNING: Loading a SolverResults object with an 'aborted' status, but\n",
      "    containing a solution\n",
      "WARNING: Loading a SolverResults object with an 'aborted' status, but\n",
      "    containing a solution\n"
     ]
    }
   ],
   "source": [
    "for theta in theta_values:\n",
    "    for recommendations in recommendations_values:\n",
    "        theta_results.append(theta)\n",
    "        recommendations_results.append(recommendations)\n",
    "        score, matrix, recommendations_pairs = serendipity_recommendation_solver(theta, recommendations, 0, 1)\n",
    "        total_serendipity = 0\n",
    "        max_score_boolean_wd.append(score)\n",
    "        if len(recommendations_pairs) > 0:\n",
    "            for u in recommendations_pairs['userId'].unique():\n",
    "                for m in recommendations_pairs['movieId'].unique():\n",
    "                    total_serendipity += predicted[(similarities_user_movies[(u,m)], rated_movies_popularity[m])]\n",
    "        serendipity_results_wd_boolean.append(total_serendipity)"
   ]
  },
  {
   "cell_type": "code",
   "execution_count": 82,
   "metadata": {},
   "outputs": [
    {
     "data": {
      "text/plain": [
       "[153.0, 85.0, 66.0, 75.0, 90.0, 138.0, 148.0, 73.0, 127.0, 171.0, 150.0, 129.0]"
      ]
     },
     "execution_count": 82,
     "metadata": {},
     "output_type": "execute_result"
    }
   ],
   "source": [
    "serendipity_results_wd_boolean"
   ]
  },
  {
   "cell_type": "code",
   "execution_count": 83,
   "metadata": {},
   "outputs": [
    {
     "data": {
      "text/plain": [
       "[4.0,\n",
       " 9.0,\n",
       " 4.0,\n",
       " 9.0,\n",
       " 3.962222222222222,\n",
       " 9.0,\n",
       " 4.0,\n",
       " 9.0,\n",
       " 3.6603174603174597,\n",
       " 9.0,\n",
       " 4.0,\n",
       " 8.99047619047619]"
      ]
     },
     "execution_count": 83,
     "metadata": {},
     "output_type": "execute_result"
    }
   ],
   "source": [
    "max_score_boolean_wd"
   ]
  },
  {
   "cell_type": "code",
   "execution_count": 97,
   "metadata": {},
   "outputs": [],
   "source": [
    "serendipity_results_binary_wd_df = pd.DataFrame(\n",
    "            {'theta': theta_results,\n",
    "             'serendipity_indexes': serendipity_results_wd_boolean,\n",
    "             'L': recommendations_results,\n",
    "             'max_score': max_score_boolean_wd\n",
    "            })"
   ]
  },
  {
   "cell_type": "code",
   "execution_count": 98,
   "metadata": {},
   "outputs": [
    {
     "data": {
      "text/html": [
       "<div>\n",
       "<style scoped>\n",
       "    .dataframe tbody tr th:only-of-type {\n",
       "        vertical-align: middle;\n",
       "    }\n",
       "\n",
       "    .dataframe tbody tr th {\n",
       "        vertical-align: top;\n",
       "    }\n",
       "\n",
       "    .dataframe thead th {\n",
       "        text-align: right;\n",
       "    }\n",
       "</style>\n",
       "<table border=\"1\" class=\"dataframe\">\n",
       "  <thead>\n",
       "    <tr style=\"text-align: right;\">\n",
       "      <th></th>\n",
       "      <th>theta</th>\n",
       "      <th>serendipity_indexes</th>\n",
       "      <th>L</th>\n",
       "      <th>max_score</th>\n",
       "    </tr>\n",
       "  </thead>\n",
       "  <tbody>\n",
       "    <tr>\n",
       "      <th>0</th>\n",
       "      <td>0.25</td>\n",
       "      <td>153.0</td>\n",
       "      <td>2</td>\n",
       "      <td>4.000000</td>\n",
       "    </tr>\n",
       "    <tr>\n",
       "      <th>1</th>\n",
       "      <td>0.25</td>\n",
       "      <td>85.0</td>\n",
       "      <td>3</td>\n",
       "      <td>9.000000</td>\n",
       "    </tr>\n",
       "    <tr>\n",
       "      <th>2</th>\n",
       "      <td>0.30</td>\n",
       "      <td>66.0</td>\n",
       "      <td>2</td>\n",
       "      <td>4.000000</td>\n",
       "    </tr>\n",
       "    <tr>\n",
       "      <th>3</th>\n",
       "      <td>0.30</td>\n",
       "      <td>75.0</td>\n",
       "      <td>3</td>\n",
       "      <td>9.000000</td>\n",
       "    </tr>\n",
       "    <tr>\n",
       "      <th>4</th>\n",
       "      <td>0.35</td>\n",
       "      <td>90.0</td>\n",
       "      <td>2</td>\n",
       "      <td>3.962222</td>\n",
       "    </tr>\n",
       "    <tr>\n",
       "      <th>5</th>\n",
       "      <td>0.35</td>\n",
       "      <td>138.0</td>\n",
       "      <td>3</td>\n",
       "      <td>9.000000</td>\n",
       "    </tr>\n",
       "    <tr>\n",
       "      <th>6</th>\n",
       "      <td>0.40</td>\n",
       "      <td>148.0</td>\n",
       "      <td>2</td>\n",
       "      <td>4.000000</td>\n",
       "    </tr>\n",
       "    <tr>\n",
       "      <th>7</th>\n",
       "      <td>0.40</td>\n",
       "      <td>73.0</td>\n",
       "      <td>3</td>\n",
       "      <td>9.000000</td>\n",
       "    </tr>\n",
       "    <tr>\n",
       "      <th>8</th>\n",
       "      <td>0.45</td>\n",
       "      <td>127.0</td>\n",
       "      <td>2</td>\n",
       "      <td>3.660317</td>\n",
       "    </tr>\n",
       "    <tr>\n",
       "      <th>9</th>\n",
       "      <td>0.45</td>\n",
       "      <td>171.0</td>\n",
       "      <td>3</td>\n",
       "      <td>9.000000</td>\n",
       "    </tr>\n",
       "    <tr>\n",
       "      <th>10</th>\n",
       "      <td>0.50</td>\n",
       "      <td>150.0</td>\n",
       "      <td>2</td>\n",
       "      <td>4.000000</td>\n",
       "    </tr>\n",
       "    <tr>\n",
       "      <th>11</th>\n",
       "      <td>0.50</td>\n",
       "      <td>129.0</td>\n",
       "      <td>3</td>\n",
       "      <td>8.990476</td>\n",
       "    </tr>\n",
       "  </tbody>\n",
       "</table>\n",
       "</div>"
      ],
      "text/plain": [
       "    theta  serendipity_indexes  L  max_score\n",
       "0    0.25                153.0  2   4.000000\n",
       "1    0.25                 85.0  3   9.000000\n",
       "2    0.30                 66.0  2   4.000000\n",
       "3    0.30                 75.0  3   9.000000\n",
       "4    0.35                 90.0  2   3.962222\n",
       "5    0.35                138.0  3   9.000000\n",
       "6    0.40                148.0  2   4.000000\n",
       "7    0.40                 73.0  3   9.000000\n",
       "8    0.45                127.0  2   3.660317\n",
       "9    0.45                171.0  3   9.000000\n",
       "10   0.50                150.0  2   4.000000\n",
       "11   0.50                129.0  3   8.990476"
      ]
     },
     "execution_count": 98,
     "metadata": {},
     "output_type": "execute_result"
    }
   ],
   "source": [
    "serendipity_results_binary_wd_df"
   ]
  },
  {
   "cell_type": "code",
   "execution_count": 86,
   "metadata": {},
   "outputs": [
    {
     "data": {
      "image/png": "[encoded data removed]",
      "text/plain": [
       "<Figure size 720x360 with 1 Axes>"
      ]
     },
     "metadata": {
      "needs_background": "light"
     },
     "output_type": "display_data"
    }
   ],
   "source": [
    "df1 = serendipity_results_binary_wd_df.loc[serendipity_results_binary_wd_df['L'] == 2]\n",
    "df2 = serendipity_results_binary_wd_df.loc[serendipity_results_binary_wd_df['L'] == 3]\n",
    "\n",
    "plt.figure(figsize=(10, 5))\n",
    "plt.scatter(df1.theta, df1.max_score, c='orange', s=80, label='L = 2')\n",
    "plt.scatter(df1.theta, df2.max_score, c='green', s=80, label='L = 3')\n",
    "plt.legend()\n",
    "plt.tight_layout()\n",
    "plt.title('Total serendipity for binary X with d != 0')\n",
    "plt.show()"
   ]
  },
  {
   "cell_type": "code",
   "execution_count": null,
   "metadata": {},
   "outputs": [],
   "source": []
  },
  {
   "cell_type": "markdown",
   "metadata": {},
   "source": [
    "Continuous"
   ]
  },
  {
   "cell_type": "code",
   "execution_count": 87,
   "metadata": {},
   "outputs": [],
   "source": [
    "theta_results = []\n",
    "recommendations_results = []\n",
    "serendipity_results_wd_cont = []\n",
    "max_score_cont_wd = []"
   ]
  },
  {
   "cell_type": "code",
   "execution_count": 88,
   "metadata": {},
   "outputs": [],
   "source": [
    "for theta in theta_values:\n",
    "    for recommendations in recommendations_values:\n",
    "        theta_results.append(theta)\n",
    "        recommendations_results.append(recommendations)\n",
    "        score, matrix, recommendations_pairs = serendipity_recommendation_solver(theta, recommendations, 1, 1)\n",
    "        total_serendipity = 0\n",
    "        max_score_cont_wd.append(score)\n",
    "        if len(recommendations_pairs) > 0:\n",
    "            for u in recommendations_pairs['userId'].unique():\n",
    "                for m in recommendations_pairs['movieId'].unique():\n",
    "                    total_serendipity += predicted[(similarities_user_movies[(u,m)], rated_movies_popularity[m])]\n",
    "        serendipity_results_wd_cont.append(total_serendipity)"
   ]
  },
  {
   "cell_type": "code",
   "execution_count": 89,
   "metadata": {},
   "outputs": [
    {
     "data": {
      "text/plain": [
       "[29.0, 65.0, 29.0, 65.0, 29.0, 65.0, 29.0, 65.0, 27.0, 65.0, 27.0, 65.0]"
      ]
     },
     "execution_count": 89,
     "metadata": {},
     "output_type": "execute_result"
    }
   ],
   "source": [
    "serendipity_results_wd_cont"
   ]
  },
  {
   "cell_type": "code",
   "execution_count": 90,
   "metadata": {},
   "outputs": [
    {
     "data": {
      "text/plain": [
       "[5.682489466520519,\n",
       " 11.28560204716414,\n",
       " 5.682437462002965,\n",
       " 11.28560204711506,\n",
       " 5.6822719614962205,\n",
       " 11.285601709268118,\n",
       " 5.681990242132542,\n",
       " 11.28560170958828,\n",
       " 5.681572962605425,\n",
       " 11.285602047157582,\n",
       " 5.681007992641692,\n",
       " 11.285602046793185]"
      ]
     },
     "execution_count": 90,
     "metadata": {},
     "output_type": "execute_result"
    }
   ],
   "source": [
    "max_score_cont_wd"
   ]
  },
  {
   "cell_type": "code",
   "execution_count": 95,
   "metadata": {},
   "outputs": [],
   "source": [
    "serendipity_results_cont_wd_df = pd.DataFrame(\n",
    "            {'theta': theta_results,\n",
    "             'serendipity_indexes': serendipity_results_wd_cont,\n",
    "             'L': recommendations_results,\n",
    "             'max_score': max_score_cont_wd\n",
    "            })"
   ]
  },
  {
   "cell_type": "code",
   "execution_count": 96,
   "metadata": {},
   "outputs": [
    {
     "data": {
      "text/html": [
       "<div>\n",
       "<style scoped>\n",
       "    .dataframe tbody tr th:only-of-type {\n",
       "        vertical-align: middle;\n",
       "    }\n",
       "\n",
       "    .dataframe tbody tr th {\n",
       "        vertical-align: top;\n",
       "    }\n",
       "\n",
       "    .dataframe thead th {\n",
       "        text-align: right;\n",
       "    }\n",
       "</style>\n",
       "<table border=\"1\" class=\"dataframe\">\n",
       "  <thead>\n",
       "    <tr style=\"text-align: right;\">\n",
       "      <th></th>\n",
       "      <th>theta</th>\n",
       "      <th>serendipity_indexes</th>\n",
       "      <th>L</th>\n",
       "      <th>max_score</th>\n",
       "    </tr>\n",
       "  </thead>\n",
       "  <tbody>\n",
       "    <tr>\n",
       "      <th>0</th>\n",
       "      <td>0.25</td>\n",
       "      <td>29.0</td>\n",
       "      <td>2</td>\n",
       "      <td>5.682489</td>\n",
       "    </tr>\n",
       "    <tr>\n",
       "      <th>1</th>\n",
       "      <td>0.25</td>\n",
       "      <td>65.0</td>\n",
       "      <td>3</td>\n",
       "      <td>11.285602</td>\n",
       "    </tr>\n",
       "    <tr>\n",
       "      <th>2</th>\n",
       "      <td>0.30</td>\n",
       "      <td>29.0</td>\n",
       "      <td>2</td>\n",
       "      <td>5.682437</td>\n",
       "    </tr>\n",
       "    <tr>\n",
       "      <th>3</th>\n",
       "      <td>0.30</td>\n",
       "      <td>65.0</td>\n",
       "      <td>3</td>\n",
       "      <td>11.285602</td>\n",
       "    </tr>\n",
       "    <tr>\n",
       "      <th>4</th>\n",
       "      <td>0.35</td>\n",
       "      <td>29.0</td>\n",
       "      <td>2</td>\n",
       "      <td>5.682272</td>\n",
       "    </tr>\n",
       "    <tr>\n",
       "      <th>5</th>\n",
       "      <td>0.35</td>\n",
       "      <td>65.0</td>\n",
       "      <td>3</td>\n",
       "      <td>11.285602</td>\n",
       "    </tr>\n",
       "    <tr>\n",
       "      <th>6</th>\n",
       "      <td>0.40</td>\n",
       "      <td>29.0</td>\n",
       "      <td>2</td>\n",
       "      <td>5.681990</td>\n",
       "    </tr>\n",
       "    <tr>\n",
       "      <th>7</th>\n",
       "      <td>0.40</td>\n",
       "      <td>65.0</td>\n",
       "      <td>3</td>\n",
       "      <td>11.285602</td>\n",
       "    </tr>\n",
       "    <tr>\n",
       "      <th>8</th>\n",
       "      <td>0.45</td>\n",
       "      <td>27.0</td>\n",
       "      <td>2</td>\n",
       "      <td>5.681573</td>\n",
       "    </tr>\n",
       "    <tr>\n",
       "      <th>9</th>\n",
       "      <td>0.45</td>\n",
       "      <td>65.0</td>\n",
       "      <td>3</td>\n",
       "      <td>11.285602</td>\n",
       "    </tr>\n",
       "    <tr>\n",
       "      <th>10</th>\n",
       "      <td>0.50</td>\n",
       "      <td>27.0</td>\n",
       "      <td>2</td>\n",
       "      <td>5.681008</td>\n",
       "    </tr>\n",
       "    <tr>\n",
       "      <th>11</th>\n",
       "      <td>0.50</td>\n",
       "      <td>65.0</td>\n",
       "      <td>3</td>\n",
       "      <td>11.285602</td>\n",
       "    </tr>\n",
       "  </tbody>\n",
       "</table>\n",
       "</div>"
      ],
      "text/plain": [
       "    theta  serendipity_indexes  L  max_score\n",
       "0    0.25                 29.0  2   5.682489\n",
       "1    0.25                 65.0  3  11.285602\n",
       "2    0.30                 29.0  2   5.682437\n",
       "3    0.30                 65.0  3  11.285602\n",
       "4    0.35                 29.0  2   5.682272\n",
       "5    0.35                 65.0  3  11.285602\n",
       "6    0.40                 29.0  2   5.681990\n",
       "7    0.40                 65.0  3  11.285602\n",
       "8    0.45                 27.0  2   5.681573\n",
       "9    0.45                 65.0  3  11.285602\n",
       "10   0.50                 27.0  2   5.681008\n",
       "11   0.50                 65.0  3  11.285602"
      ]
     },
     "execution_count": 96,
     "metadata": {},
     "output_type": "execute_result"
    }
   ],
   "source": [
    "serendipity_results_cont_wd_df"
   ]
  },
  {
   "cell_type": "code",
   "execution_count": 94,
   "metadata": {},
   "outputs": [
    {
     "data": {
      "image/png": "[encoded data removed]",
      "text/plain": [
       "<Figure size 720x360 with 1 Axes>"
      ]
     },
     "metadata": {
      "needs_background": "light"
     },
     "output_type": "display_data"
    }
   ],
   "source": [
    "df1 = serendipity_results_cont_wd_df.loc[serendipity_results_cont_wd_df['L'] == 2]\n",
    "df2 = serendipity_results_cont_wd_df.loc[serendipity_results_cont_wd_df['L'] == 3]\n",
    "\n",
    "plt.figure(figsize=(10, 5))\n",
    "plt.scatter(df1.theta, df1.max_score, c='orange', s=80, label='L = 2')\n",
    "plt.scatter(df1.theta, df2.max_score, c='green', s=80, label='L = 3')\n",
    "plt.legend()\n",
    "plt.tight_layout()\n",
    "plt.title('Total serendipity for continuous X with d != 0')\n",
    "plt.show()"
   ]
  },
  {
   "cell_type": "code",
   "execution_count": null,
   "metadata": {},
   "outputs": [],
   "source": []
  }
 ],
 "metadata": {
  "kernelspec": {
   "display_name": "Python 3",
   "language": "python",
   "name": "python3"
  },
  "language_info": {
   "codemirror_mode": {
    "name": "ipython",
    "version": 3
   },
   "file_extension": ".py",
   "mimetype": "text/x-python",
   "name": "python",
   "nbconvert_exporter": "python",
   "pygments_lexer": "ipython3",
   "version": "3.7.6"
  }
 },
 "nbformat": 4,
 "nbformat_minor": 4
}
