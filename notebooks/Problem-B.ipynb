{
 "cells": [
  {
   "cell_type": "code",
   "execution_count": 1,
   "metadata": {},
   "outputs": [],
   "source": [
    "import os\n",
    "import re\n",
    "import pandas as pd\n",
    "import numpy as np\n",
    "import warnings\n",
    "warnings.filterwarnings('ignore')"
   ]
  },
  {
   "cell_type": "code",
   "execution_count": 2,
   "metadata": {},
   "outputs": [],
   "source": [
    "movies_df = pd.read_csv(\"/Users/georgenteves/rec_sys_proj/data/serendipity-sac2018/movies.csv\",sep=',')"
   ]
  },
  {
   "cell_type": "code",
   "execution_count": 3,
   "metadata": {},
   "outputs": [],
   "source": [
    "movies_df = movies_df.drop(['releaseDate', 'imdbId', 'tmdbId', 'Unnamed: 8','Unnamed: 9','Unnamed: 10','Unnamed: 11'], axis = 1) "
   ]
  },
  {
   "cell_type": "code",
   "execution_count": 4,
   "metadata": {},
   "outputs": [],
   "source": [
    "answers_df = pd.read_csv(\"/Users/georgenteves/rec_sys_proj/data/serendipity-sac2018/answers.csv\",sep=',')"
   ]
  },
  {
   "cell_type": "code",
   "execution_count": 5,
   "metadata": {},
   "outputs": [],
   "source": [
    "answers_df = answers_df.drop(['rating', 'predictedRating', 's_ser_rel', 'q','s_ser_find','s_ser_imp','s_ser_rec', 'm_ser_rel', 'm_ser_find', 'm_ser_imp' , 'm_ser_rec'], axis = 1) "
   ]
  },
  {
   "cell_type": "code",
   "execution_count": 6,
   "metadata": {},
   "outputs": [],
   "source": [
    "movies_rated_by_user = {}\n",
    "answers_df_timestamp_ascending = answers_df.sort_values('timestamp')\n",
    "answers_df_timestamp_ascending = answers_df_timestamp_ascending.reset_index(drop=True)\n",
    "\n",
    "for answer in range(0, len(answers_df_timestamp_ascending)):\n",
    "    if int(answers_df_timestamp_ascending['userId'][answer]) in movies_rated_by_user:\n",
    "        movies_rated_by_user[int(answers_df_timestamp_ascending['userId'][answer])].append(int(answers_df_timestamp_ascending['movieId'][answer]))\n",
    "    else:\n",
    "        movies_rated_by_user[int(answers_df_timestamp_ascending['userId'][answer])] = []\n",
    "        movies_rated_by_user[int(answers_df_timestamp_ascending['userId'][answer])].append(answers_df_timestamp_ascending['movieId'][answer])        "
   ]
  },
  {
   "cell_type": "markdown",
   "metadata": {},
   "source": [
    "# SImilarity movies per user"
   ]
  },
  {
   "cell_type": "code",
   "execution_count": 7,
   "metadata": {},
   "outputs": [],
   "source": [
    "def jaccard_similarity_with_previous_rated_movies(user_movies_list, current_movie):\n",
    "    \n",
    "    total_similarity_sum = 0\n",
    "    total_movies_number = 0\n",
    "    \n",
    "    for movie in user_movies_list:\n",
    "        number_of_criteria = 0\n",
    "        current_similarity_sum = 0\n",
    "        \n",
    "        if (movies_df.index[movies_df['movieId'] == current_movie][0] - 1) >= 0:\n",
    "            list1 = movies_df['directedBy'][movies_df.index[movies_df['movieId'] == movie][0] - 1].split(',')\n",
    "            list2 = movies_df['directedBy'][movies_df.index[movies_df['movieId'] == current_movie][0] - 1].split(',')\n",
    "            intersection = len(list(set(list1).intersection(list2)))\n",
    "            union = (len(list1) + len(list2)) - intersection\n",
    "            current_similarity_sum += float(intersection) / union\n",
    "            number_of_criteria += 1\n",
    "\n",
    "            list1 = movies_df['starring'][movies_df.index[movies_df['movieId'] == movie][0] - 1].split(',')\n",
    "            list2 = movies_df['starring'][movies_df.index[movies_df['movieId'] == current_movie][0] - 1].split(',')\n",
    "            intersection = len(list(set(list1).intersection(list2)))\n",
    "            union = (len(list1) + len(list2)) - intersection\n",
    "            current_similarity_sum += float(intersection) / union\n",
    "            number_of_criteria += 1\n",
    "\n",
    "            list1 = movies_df['genres'][movies_df.index[movies_df['movieId'] == movie][0] - 1].split(',')\n",
    "            list2 = movies_df['genres'][movies_df.index[movies_df['movieId'] == current_movie][0] - 1].split(',')\n",
    "            intersection = len(list(set(list1).intersection(list2)))\n",
    "            union = (len(list1) + len(list2)) - intersection\n",
    "            current_similarity_sum += float(intersection) / union\n",
    "            number_of_criteria += 1\n",
    "\n",
    "            current_similarity = current_similarity_sum / number_of_criteria\n",
    "            total_similarity_sum += current_similarity\n",
    "            total_movies_number += 1\n",
    "    \n",
    "    if total_movies_number > 0:\n",
    "        answer = total_similarity_sum / total_movies_number\n",
    "    else:\n",
    "        answer = 0\n",
    "    \n",
    "    return answer"
   ]
  },
  {
   "cell_type": "code",
   "execution_count": 8,
   "metadata": {},
   "outputs": [],
   "source": [
    "def similarity_with_previous_rated_movies_by_user(userId, current_movie):\n",
    "    similarity = 0\n",
    "    if userId in movies_rated_by_user:\n",
    "        if current_movie not in movies_rated_by_user[userId]:\n",
    "            similarity = jaccard_similarity_with_previous_rated_movies(movies_rated_by_user[userId], current_movie)\n",
    "        else:\n",
    "            previous_movies_rated_by_user = []\n",
    "            current_movie_index = movies_rated_by_user[userId].index(current_movie)\n",
    "            for movie_index in range(0, len(movies_rated_by_user[userId])):\n",
    "                if movie_index < current_movie_index:\n",
    "                    previous_movies_rated_by_user.append(movies_rated_by_user[userId][movie_index])\n",
    "                else:\n",
    "                    break\n",
    "            if len(previous_movies_rated_by_user) > 0:\n",
    "                similarity = jaccard_similarity_with_previous_rated_movies(previous_movies_rated_by_user, current_movie)  \n",
    "                \n",
    "    return similarity"
   ]
  },
  {
   "cell_type": "markdown",
   "metadata": {},
   "source": [
    "### Popularity in ml-latest-small"
   ]
  },
  {
   "cell_type": "code",
   "execution_count": 9,
   "metadata": {},
   "outputs": [],
   "source": [
    "movies_ratings = pd.read_csv(\"/Users/georgenteves/rec_sys_proj/data/ml-latest-small/ratings.csv\",sep=',')"
   ]
  },
  {
   "cell_type": "code",
   "execution_count": 10,
   "metadata": {},
   "outputs": [],
   "source": [
    "movies_all = pd.read_csv(\"/Users/georgenteves/rec_sys_proj/data/ml-latest-small/movies.csv\",sep=',')"
   ]
  },
  {
   "cell_type": "code",
   "execution_count": 11,
   "metadata": {},
   "outputs": [],
   "source": [
    "rated_movies_popularity = {}\n",
    "\n",
    "for movie in range(0, len(movies_ratings)):\n",
    "    if int(movies_ratings['movieId'][movie]) not in rated_movies_popularity:\n",
    "        times_rated = len(movies_ratings.loc[movies_ratings['movieId'] == int(movies_ratings['movieId'][movie])])\n",
    "        rated_movies_popularity[int(movies_ratings['movieId'][movie])] = -np.log10(times_rated / movies_ratings['userId'].nunique())"
   ]
  },
  {
   "cell_type": "markdown",
   "metadata": {},
   "source": [
    "# Serendipity index"
   ]
  },
  {
   "cell_type": "code",
   "execution_count": 12,
   "metadata": {},
   "outputs": [],
   "source": [
    "questions = ['s1', 's2', 's3', 's4', 's5', 's6', 's7', 's8']\n",
    "movies_serendipity_sum = {}\n",
    "movies_serendipity_users = {}\n",
    "movies_serendipity = {}\n",
    "\n",
    "for answer in range(0, len(answers_df_timestamp_ascending)):\n",
    "    number_of_questions = 0\n",
    "    current_user_serendipity_sum = 0\n",
    "    \n",
    "    for question in questions:\n",
    "        if (np.isnan(answers_df_timestamp_ascending[question][answer]) == False):\n",
    "            number_of_questions += 1\n",
    "            current_user_serendipity_sum += answers_df_timestamp_ascending[question][answer]/5\n",
    "    \n",
    "    if number_of_questions != 0:\n",
    "        current_user_serendipity = current_user_serendipity_sum / number_of_questions\n",
    "    \n",
    "    if int(answers_df_timestamp_ascending['movieId'][answer]) not in movies_serendipity_sum:\n",
    "        movies_serendipity_sum[int(answers_df_timestamp_ascending['movieId'][answer])] = current_user_serendipity\n",
    "    else:\n",
    "        movies_serendipity_sum[int(answers_df_timestamp_ascending['movieId'][answer])] += current_user_serendipity\n",
    "        \n",
    "    if int(answers_df_timestamp_ascending['movieId'][answer]) not in movies_serendipity_users:\n",
    "        movies_serendipity_users[int(answers_df_timestamp_ascending['movieId'][answer])] = 1\n",
    "    else:\n",
    "        movies_serendipity_users[int(answers_df_timestamp_ascending['movieId'][answer])] += 1\n",
    "\n",
    "for movie in movies_serendipity_users:\n",
    "    movies_serendipity[movie] = movies_serendipity_sum[movie] / movies_serendipity_users[movie]"
   ]
  },
  {
   "cell_type": "markdown",
   "metadata": {},
   "source": [
    "\n",
    "# Categories"
   ]
  },
  {
   "cell_type": "code",
   "execution_count": 13,
   "metadata": {},
   "outputs": [],
   "source": [
    "import random\n",
    "\n",
    "number_of_categories = 5\n",
    "movie_ids = movies_df[\"movieId\"].unique()\n",
    "random.shuffle(movie_ids)"
   ]
  },
  {
   "cell_type": "code",
   "execution_count": 14,
   "metadata": {},
   "outputs": [],
   "source": [
    "categories = np.random.randint(low = 0,high = number_of_categories+1, size=len(movie_ids))"
   ]
  },
  {
   "cell_type": "code",
   "execution_count": 15,
   "metadata": {},
   "outputs": [],
   "source": [
    "movies_with_categories = pd.DataFrame({'Movie Id': movie_ids[:], 'Category': categories[:],'Values':np.ones(len(movie_ids))}) "
   ]
  },
  {
   "cell_type": "code",
   "execution_count": 16,
   "metadata": {},
   "outputs": [],
   "source": [
    "categorized_movies = movies_with_categories.pivot(\n",
    "    index='Category',\n",
    "    columns='Movie Id',\n",
    "    values='Values'\n",
    ").fillna(0).astype(int)"
   ]
  },
  {
   "cell_type": "code",
   "execution_count": 17,
   "metadata": {},
   "outputs": [],
   "source": [
    "cat_dict = {}\n",
    "for cat_id in movies_with_categories['Category'].unique():\n",
    "    cat_dict[cat_id] = movies_with_categories.loc[movies_with_categories['Category']==cat_id]['Movie Id'].tolist()"
   ]
  },
  {
   "cell_type": "code",
   "execution_count": 18,
   "metadata": {},
   "outputs": [],
   "source": [
    "movies_df['directedBy'].fillna('', inplace=True)\n",
    "movies_df['starring'].fillna('', inplace=True)\n",
    "movies_df['genres'].fillna('', inplace=True)"
   ]
  },
  {
   "cell_type": "code",
   "execution_count": 19,
   "metadata": {},
   "outputs": [],
   "source": [
    "model_df = pd.DataFrame(\n",
    "    [int(row['userId']), int(row['movieId']), similarity_with_previous_rated_movies_by_user(int(row['userId']), int(row['movieId'])), rated_movies_popularity[int(row['movieId'])], movies_serendipity[int(row['movieId'])]] for index, row in answers_df_timestamp_ascending.iterrows() if int(row['movieId']) in rated_movies_popularity)"
   ]
  },
  {
   "cell_type": "code",
   "execution_count": 20,
   "metadata": {
    "scrolled": true
   },
   "outputs": [],
   "source": [
    "model_df.columns = ['userId', 'movieId', 'similarity_previous_rated_by_user', 'popularity', 'movie_serendipity']"
   ]
  },
  {
   "cell_type": "code",
   "execution_count": 21,
   "metadata": {},
   "outputs": [],
   "source": [
    "model_df.loc[(model_df.movie_serendipity >= 0.5),'movie_serendipity']= int(1)\n",
    "model_df.loc[(model_df.movie_serendipity < 0.5),'movie_serendipity']= int(0)"
   ]
  },
  {
   "cell_type": "code",
   "execution_count": 22,
   "metadata": {},
   "outputs": [
    {
     "name": "stdout",
     "output_type": "stream",
     "text": [
      "The size of train set and test set is 1152 and 288 respectively.\n"
     ]
    }
   ],
   "source": [
    "from sklearn.model_selection import train_test_split\n",
    "\n",
    "train_set, test_set = train_test_split(model_df, test_size = 0.2, random_state = 28)\n",
    "print ('The size of train set and test set is {0} and {1} respectively.'.format(len(train_set),len(test_set)))"
   ]
  },
  {
   "cell_type": "code",
   "execution_count": 23,
   "metadata": {},
   "outputs": [],
   "source": [
    "train_X = []\n",
    "train_Y = []\n",
    "\n",
    "for index, values in train_set.iterrows():\n",
    "    train_X.append([values['similarity_previous_rated_by_user'], values['popularity']])\n",
    "    train_Y.append(values['movie_serendipity'])"
   ]
  },
  {
   "cell_type": "code",
   "execution_count": 24,
   "metadata": {},
   "outputs": [],
   "source": [
    "test_X = []\n",
    "test_Y = []\n",
    "\n",
    "for index, values in test_set.iterrows():\n",
    "    test_X.append([values['similarity_previous_rated_by_user'], values['popularity']])\n",
    "    test_Y.append(values['movie_serendipity'])"
   ]
  },
  {
   "cell_type": "markdown",
   "metadata": {},
   "source": [
    "# Logistic Regression"
   ]
  },
  {
   "cell_type": "code",
   "execution_count": 25,
   "metadata": {},
   "outputs": [],
   "source": [
    "from sklearn.linear_model import LogisticRegression\n",
    "clf = LogisticRegression(random_state=0).fit(train_X, train_Y)"
   ]
  },
  {
   "cell_type": "code",
   "execution_count": 26,
   "metadata": {},
   "outputs": [
    {
     "data": {
      "text/plain": [
       "0.7465277777777778"
      ]
     },
     "execution_count": 26,
     "metadata": {},
     "output_type": "execute_result"
    }
   ],
   "source": [
    "clf.score(test_X,test_Y)"
   ]
  },
  {
   "cell_type": "code",
   "execution_count": 27,
   "metadata": {},
   "outputs": [],
   "source": [
    "from sklearn.metrics import mean_squared_error\n",
    "y_pred = clf.predict(test_X)"
   ]
  },
  {
   "cell_type": "code",
   "execution_count": 28,
   "metadata": {},
   "outputs": [
    {
     "data": {
      "text/plain": [
       "0.2534722222222222"
      ]
     },
     "execution_count": 28,
     "metadata": {},
     "output_type": "execute_result"
    }
   ],
   "source": [
    "mean_squared_error(test_Y, y_pred)"
   ]
  },
  {
   "cell_type": "markdown",
   "metadata": {},
   "source": [
    "# Non-Linear"
   ]
  },
  {
   "cell_type": "code",
   "execution_count": 29,
   "metadata": {},
   "outputs": [
    {
     "data": {
      "text/plain": [
       "0.6701388888888888"
      ]
     },
     "execution_count": 29,
     "metadata": {},
     "output_type": "execute_result"
    }
   ],
   "source": [
    "from sklearn.tree import DecisionTreeClassifier\n",
    "\n",
    "regressor = DecisionTreeClassifier(random_state = 0)  \n",
    "regressor.fit(train_X, train_Y) \n",
    "regressor.score(test_X, test_Y) "
   ]
  },
  {
   "cell_type": "code",
   "execution_count": 30,
   "metadata": {},
   "outputs": [
    {
     "data": {
      "text/plain": [
       "0.3298611111111111"
      ]
     },
     "execution_count": 30,
     "metadata": {},
     "output_type": "execute_result"
    }
   ],
   "source": [
    "y_pred = regressor.predict(test_X)\n",
    "mean_squared_error(test_Y, y_pred)"
   ]
  },
  {
   "cell_type": "markdown",
   "metadata": {},
   "source": [
    "# Solver"
   ]
  },
  {
   "cell_type": "code",
   "execution_count": 31,
   "metadata": {},
   "outputs": [],
   "source": [
    "#minified movies categories with the 100 least popular movies of each category\n",
    "min_cat_dict = {}\n",
    "\n",
    "for cat_id in cat_dict:\n",
    "    min_cat_dict[cat_id] = []\n",
    "    current_categories_movies = pd.DataFrame(\n",
    "    [int(cat_dict[cat_id][movie_index]), rated_movies_popularity[cat_dict[cat_id][movie_index]]] for movie_index in range(0, len(cat_dict[cat_id])) if cat_dict[cat_id][movie_index] in rated_movies_popularity)\n",
    "    current_categories_movies.columns = ['movieId', 'popularity']\n",
    "    current_categories_movies_ascending = current_categories_movies.sort_values(by='movieId')\n",
    "    current_categories_movies_ascending = current_categories_movies_ascending.reset_index()\n",
    "    for movie in current_categories_movies_ascending[0:10].iterrows():\n",
    "        min_cat_dict[cat_id].append(int(movie[1]['movieId']))"
   ]
  },
  {
   "cell_type": "code",
   "execution_count": 32,
   "metadata": {},
   "outputs": [],
   "source": [
    "all_movies_min = []\n",
    "\n",
    "for cat_id in min_cat_dict:\n",
    "    for movie_index in range(0, len(min_cat_dict[cat_id])):\n",
    "        all_movies_min.append(min_cat_dict[cat_id][movie_index])"
   ]
  },
  {
   "cell_type": "code",
   "execution_count": 33,
   "metadata": {},
   "outputs": [],
   "source": [
    "def selection_sort(x):\n",
    "    for i in range(len(x)):\n",
    "        swap = i + np.argmin(x[i:])\n",
    "        (x[i], x[swap]) = (x[swap], x[i])\n",
    "    return x"
   ]
  },
  {
   "cell_type": "code",
   "execution_count": 34,
   "metadata": {},
   "outputs": [],
   "source": [
    "params = []\n",
    "the_users = selection_sort(answers_df['userId'].unique())[0:10] #[0:int(len(all_movies_min)/2)]\n",
    "the_users = np.array(the_users).tolist()\n",
    "\n",
    "for index in range(0, len(all_movies_min)):\n",
    "    if index < len(the_users):\n",
    "        params.append({\n",
    "            \"movieId\": all_movies_min[index],\n",
    "            \"userId\": the_users[index],\n",
    "            \"recommendation\": 0\n",
    "        })\n",
    "    else:\n",
    "        params.append({\n",
    "            \"movieId\": all_movies_min[index],\n",
    "            \"userId\": 0,\n",
    "            \"recommendation\": 0\n",
    "        })\n",
    "    \n",
    "x_df = pd.DataFrame(params)"
   ]
  },
  {
   "cell_type": "code",
   "execution_count": 35,
   "metadata": {},
   "outputs": [],
   "source": [
    "# pivot ratings into movie features\n",
    "x_pivot = x_df.pivot(\n",
    "    index='movieId',\n",
    "    columns='userId',\n",
    "    values='recommendation'\n",
    ").fillna(0)"
   ]
  },
  {
   "cell_type": "code",
   "execution_count": 36,
   "metadata": {},
   "outputs": [],
   "source": [
    "from collections import defaultdict\n",
    "x_dict = {}\n",
    "for ind,row in x_pivot.iterrows():\n",
    "    dd = row.to_dict()\n",
    "    for us in dd:\n",
    "        if us > 0:\n",
    "            x_dict[(us,ind)] = dd[us]"
   ]
  },
  {
   "cell_type": "code",
   "execution_count": 37,
   "metadata": {},
   "outputs": [],
   "source": [
    "x_dict_keys = []\n",
    "for k in x_dict:\n",
    "    x_dict_keys.append(k)"
   ]
  },
  {
   "cell_type": "code",
   "execution_count": 38,
   "metadata": {},
   "outputs": [],
   "source": [
    "predicted = {}\n",
    "similarities_user_movies = {}\n",
    "for u in the_users:\n",
    "    for c in min_cat_dict:\n",
    "        for m in range(0, len(min_cat_dict[c])):\n",
    "            similarities_user_movies[(u,min_cat_dict[c][m])] = similarity_with_previous_rated_movies_by_user(u, min_cat_dict[c][m])\n",
    "            predicted[(similarities_user_movies[(u,min_cat_dict[c][m])], rated_movies_popularity[min_cat_dict[c][m]])] = clf.predict([[similarities_user_movies[(u,min_cat_dict[c][m])], rated_movies_popularity[min_cat_dict[c][m]]]])  "
   ]
  },
  {
   "cell_type": "code",
   "execution_count": 39,
   "metadata": {},
   "outputs": [],
   "source": [
    "for k1, k2 in predicted:\n",
    "    predicted[(k1,k2)] = predicted[(k1,k2)][0]"
   ]
  },
  {
   "cell_type": "code",
   "execution_count": 40,
   "metadata": {},
   "outputs": [],
   "source": [
    "import math\n",
    "from pyomo.environ import *\n",
    "import pyomo.environ as pyomo\n",
    "from pyomo.solvers import plugins\n",
    "import gurobi as GUROBI"
   ]
  },
  {
   "cell_type": "code",
   "execution_count": 41,
   "metadata": {},
   "outputs": [],
   "source": [
    "def serendipity_recommendation_solver(theta, recommendations_num, domainType = 0, with_disimilarity = 0):\n",
    "    Recs = x_dict_keys\n",
    "    model = pyomo.ConcreteModel()\n",
    "\n",
    "    model.Cats = Set(initialize=min_cat_dict.keys())\n",
    "    model.Users = Set(initialize=the_users)\n",
    "    model.Movies = Set(initialize=all_movies_min)\n",
    "\n",
    "    if domainType == 0:\n",
    "        model.x = pyomo.Var(Recs, bounds=(0,1), domain=Boolean)\n",
    "    else:\n",
    "        model.x = pyomo.Var(Recs, bounds=(0,1), domain=PositiveReals)\n",
    "    \n",
    "    \n",
    "    def maximun_recommendation_constraint(model, u):\n",
    "        return np.sum(np.sum(model.x[u, min_cat_dict[c][i]] for i in range(0, len(min_cat_dict[c]))) for c in model.Cats) == recommendations_num\n",
    "    \n",
    "    model.MaximumRecommendationConstraint = Constraint(model.Users, rule=maximun_recommendation_constraint)\n",
    "    \n",
    "    if with_disimilarity == 0:\n",
    "        def minimum_average_serendipity(model, c):\n",
    "            return (1/len(min_cat_dict[c]))*np.sum(np.sum(predicted[(similarity_with_previous_rated_movies_by_user(u, min_cat_dict[c][i]), rated_movies_popularity[min_cat_dict[c][i]])]*model.x[u, min_cat_dict[c][i]] for i in range(0, len(min_cat_dict[c]))) for u in model.Users) >= theta\n",
    "\n",
    "        model.Sc = pyomo.Constraint(model.Cats, rule=minimum_average_serendipity)\n",
    "\n",
    "        def maximizer_obj(model):\n",
    "            return (1/len(the_users))*np.sum(np.sum(predicted[(similarity_with_previous_rated_movies_by_user(u, all_movies_min[i]), rated_movies_popularity[all_movies_min[i]])]*model.x[u, all_movies_min[i]] for i in range(0, len(all_movies_min))) for u in model.Users)\n",
    "\n",
    "    else:\n",
    "        def minimum_average_serendipity(model, c):\n",
    "            return (1/len(min_cat_dict[c]))*np.sum(np.sum(predicted[(similarity_with_previous_rated_movies_by_user(u, min_cat_dict[c][i]), rated_movies_popularity[min_cat_dict[c][i]])]*model.x[u, min_cat_dict[c][i]] for i in range(0, len(min_cat_dict[c])))+np.sum(d[(min_cat_dict[c][i],all_movies_min[j])]*model.x[u,min_cat_dict[c][i]]*model.x[u,all_movies_min[j]] for j in range(0, len(all_movies_min)) for i in range(0, len(min_cat_dict[c])) if all_movies_min[j] != min_cat_dict[c][i]) for u in model.Users) >= theta\n",
    "\n",
    "        model.Sc = pyomo.Constraint(model.Cats, rule=minimum_average_serendipity)\n",
    "\n",
    "        def maximizer_obj(model):\n",
    "            return (1/len(the_users))*np.sum(np.sum(predicted[(similarity_with_previous_rated_movies_by_user(u, all_movies_min[i]), rated_movies_popularity[all_movies_min[i]])]*model.x[u, all_movies_min[i]] for i in range(0, len(all_movies_min)))+np.sum(d[(all_movies_min[i],all_movies_min[j])]*model.x[u,all_movies_min[i]]*model.x[u,all_movies_min[j]] for j in range(0, len(all_movies_min)) for i in range(0, len(all_movies_min)) if all_movies_min[j] != all_movies_min[i]) for u in model.Users)\n",
    "        \n",
    "    model.Obj = Objective(rule=maximizer_obj, sense=maximize)\n",
    "\n",
    "    \n",
    "    if with_disimilarity != 0 and domainType != 0:\n",
    "        solver = SolverFactory('ipopt')\n",
    "    else:    \n",
    "        solver = SolverFactory('gurobi', solver_io=\"python\")\n",
    "        if with_disimilarity != 0:\n",
    "            solver.options['timelimit'] = 10\n",
    "    results = solver.solve(model,tee=False)\n",
    "    \n",
    "    serendipity_recommendation_solver_solutions = {}\n",
    "\n",
    "    for rec in Recs:\n",
    "        if not model.x[rec]() is None and model.x[rec]() > 0:\n",
    "            serendipity_recommendation_solver_solutions[rec] = model.x[rec]()\n",
    "\n",
    "    if len(serendipity_recommendation_solver_solutions) > 0:\n",
    "        pairs_users = []\n",
    "        pairs_movies = []\n",
    "        pairs_recommendation = []\n",
    "\n",
    "        for pair in serendipity_recommendation_solver_solutions:\n",
    "            u = pair[0]\n",
    "            i = pair[1]\n",
    "            pairs_users.append(u)\n",
    "            pairs_movies.append(i)\n",
    "            recommendation = serendipity_recommendation_solver_solutions[pair]\n",
    "            pairs_recommendation.append(recommendation)\n",
    "\n",
    "        all_recommendations_ui = pd.DataFrame(\n",
    "            {'userId': pairs_users,\n",
    "             'movieId': pairs_movies,\n",
    "             'recommendation': pairs_recommendation\n",
    "            }).sort_values(by=['userId','recommendation'], ascending=False)\n",
    "\n",
    "        all_recommendations_ui_matrix = all_recommendations_ui.pivot(\n",
    "                index=\"userId\", columns=\"movieId\", values=\"recommendation\"\n",
    "            ).fillna(0)\n",
    "        \n",
    "        final_pairs_users = []\n",
    "        final_pairs_movies = []\n",
    "        final_pairs_recommendation = []\n",
    "        recommendations_per_user = {}\n",
    "\n",
    "        for u in the_users:\n",
    "            for index, row in all_recommendations_ui.loc[all_recommendations_ui['userId'] == u][0:recommendations_num].iterrows():\n",
    "                final_pairs_users.append(int(row['userId']))\n",
    "                final_pairs_movies.append(int(row['movieId']))\n",
    "                final_pairs_recommendation.append(row['recommendation'])\n",
    "                \n",
    "                if int(row['userId']) not in recommendations_per_user:\n",
    "                    recommendations_per_user[int(row['userId'])] = [int(row['movieId'])]\n",
    "                else:\n",
    "                    recommendations_per_user[int(row['userId'])].append(int(row['movieId']))\n",
    "        \n",
    "        final_recommendations_ui = pd.DataFrame(\n",
    "            {'userId': final_pairs_users,\n",
    "             'movieId': final_pairs_movies,\n",
    "             'recommendation': final_pairs_recommendation\n",
    "            }).sort_values(by=['userId', 'recommendation'], ascending=False)\n",
    "        \n",
    "        score = model.Obj()\n",
    "        \n",
    "        return score, all_recommendations_ui_matrix, final_recommendations_ui\n",
    "    else:\n",
    "        score = 'Solution not found (inf)'\n",
    "        return score, [], []\n",
    "    "
   ]
  },
  {
   "cell_type": "markdown",
   "metadata": {},
   "source": [
    "# Without disimilaritiy (d = 0)"
   ]
  },
  {
   "cell_type": "markdown",
   "metadata": {},
   "source": [
    "Boolean"
   ]
  },
  {
   "cell_type": "code",
   "execution_count": 320,
   "metadata": {},
   "outputs": [
    {
     "name": "stdout",
     "output_type": "stream",
     "text": [
      "Number of categories: 6 | Number of movies: 60 | Number of users: 10\n",
      "\n",
      "Maximization score: 2.0\n",
      "\n",
      "All model recommendations:\n",
      "movieId   7    11   14   15   18   20   23   26   29   39   40   48   52   54  \\\n",
      "userId                                                                          \n",
      "100200   0.0  0.0  0.0  0.0  0.0  0.0  0.0  0.0  0.0  1.0  0.0  0.0  0.0  0.0   \n",
      "100269   0.0  0.0  0.0  1.0  1.0  0.0  0.0  0.0  0.0  0.0  0.0  0.0  0.0  0.0   \n",
      "100521   1.0  0.0  0.0  0.0  0.0  0.0  0.0  0.0  0.0  0.0  0.0  0.0  0.0  0.0   \n",
      "100972   0.0  0.0  1.0  0.0  0.0  1.0  0.0  0.0  0.0  0.0  0.0  0.0  0.0  0.0   \n",
      "100998   0.0  0.0  0.0  0.0  0.0  0.0  0.0  0.0  1.0  0.0  0.0  0.0  0.0  0.0   \n",
      "101049   0.0  0.0  0.0  0.0  0.0  0.0  0.0  0.0  0.0  0.0  0.0  0.0  0.0  0.0   \n",
      "101170   0.0  1.0  0.0  0.0  0.0  0.0  0.0  0.0  0.0  0.0  0.0  0.0  0.0  0.0   \n",
      "101263   0.0  0.0  0.0  0.0  0.0  0.0  0.0  0.0  0.0  0.0  1.0  1.0  0.0  0.0   \n",
      "101318   0.0  0.0  0.0  0.0  0.0  0.0  1.0  1.0  0.0  0.0  0.0  0.0  0.0  0.0   \n",
      "101579   0.0  0.0  0.0  0.0  0.0  0.0  0.0  0.0  0.0  0.0  0.0  0.0  1.0  1.0   \n",
      "\n",
      "movieId   61   66   69   88   94  \n",
      "userId                            \n",
      "100200   1.0  0.0  0.0  0.0  0.0  \n",
      "100269   0.0  0.0  0.0  0.0  0.0  \n",
      "100521   0.0  1.0  0.0  0.0  0.0  \n",
      "100972   0.0  0.0  0.0  0.0  0.0  \n",
      "100998   0.0  0.0  0.0  0.0  1.0  \n",
      "101049   0.0  0.0  0.0  1.0  1.0  \n",
      "101170   0.0  0.0  1.0  0.0  0.0  \n",
      "101263   0.0  0.0  0.0  0.0  0.0  \n",
      "101318   0.0  0.0  0.0  0.0  0.0  \n",
      "101579   0.0  0.0  0.0  0.0  0.0  \n",
      "\n",
      "The best L recommendations per user:\n",
      "    userId  movieId  recommendation\n",
      "18  101579       52             1.0\n",
      "19  101579       54             1.0\n",
      "16  101318       23             1.0\n",
      "17  101318       26             1.0\n",
      "14  101263       40             1.0\n",
      "15  101263       48             1.0\n",
      "12  101170       11             1.0\n",
      "13  101170       69             1.0\n",
      "10  101049       88             1.0\n",
      "11  101049       94             1.0\n",
      "8   100998       29             1.0\n",
      "9   100998       94             1.0\n",
      "6   100972       14             1.0\n",
      "7   100972       20             1.0\n",
      "4   100521        7             1.0\n",
      "5   100521       66             1.0\n",
      "2   100269       15             1.0\n",
      "3   100269       18             1.0\n",
      "0   100200       39             1.0\n",
      "1   100200       61             1.0\n"
     ]
    }
   ],
   "source": [
    "#function parameters -> (theta, recommendations_num (e.g. 2, 3), Boolean/Continuous (0/1), with/without disimilarity (1/0))\n",
    "score, matrix, recommendations_pairs = serendipity_recommendation_solver(0.25, 2, 0)\n",
    "print('Number of categories:',len(min_cat_dict),'| Number of movies:',len(all_movies_min),'| Number of users:',len(the_users))\n",
    "print()    \n",
    "print('Maximization score:',score)\n",
    "print()\n",
    "print('All model recommendations:')\n",
    "print(matrix)\n",
    "print()\n",
    "print('The best L recommendations per user:')\n",
    "print(recommendations_pairs)"
   ]
  },
  {
   "cell_type": "code",
   "execution_count": null,
   "metadata": {},
   "outputs": [],
   "source": []
  },
  {
   "cell_type": "markdown",
   "metadata": {},
   "source": [
    "Continuous"
   ]
  },
  {
   "cell_type": "code",
   "execution_count": 321,
   "metadata": {},
   "outputs": [
    {
     "name": "stdout",
     "output_type": "stream",
     "text": [
      "Number of categories: 6 | Number of movies: 60 | Number of users: 10\n",
      "\n",
      "Maximization score: 2.0\n",
      "\n",
      "All model recommendations:\n",
      "movieId   6    7    10   13   17   18   19   23   29   30  ...   39   40   43  \\\n",
      "userId                                                     ...                  \n",
      "100200   0.0  0.0  0.0  0.0  0.0  0.0  0.0  0.0  0.0  0.0  ...  1.0  0.0  0.0   \n",
      "100269   0.0  0.0  1.0  0.0  0.0  1.0  0.0  0.0  0.0  0.0  ...  0.0  0.0  0.0   \n",
      "100521   0.0  1.0  0.0  0.0  0.0  0.0  0.0  0.0  0.0  0.5  ...  0.0  0.0  0.0   \n",
      "100972   0.0  0.0  0.0  0.0  0.0  0.0  0.0  0.0  0.0  0.0  ...  0.0  0.0  0.0   \n",
      "100998   0.0  0.0  0.0  0.0  0.0  0.0  0.0  0.0  1.0  0.0  ...  0.0  0.0  0.0   \n",
      "101049   0.0  0.0  0.0  0.0  0.0  0.0  0.0  0.0  0.0  0.0  ...  0.5  0.0  1.0   \n",
      "101170   0.0  0.0  0.0  0.0  0.0  0.0  0.0  0.0  0.0  0.0  ...  0.0  0.0  0.0   \n",
      "101263   1.0  0.0  0.0  0.0  0.0  0.0  0.0  1.0  0.0  0.0  ...  0.0  0.0  0.0   \n",
      "101318   0.0  0.0  0.0  1.0  0.0  0.0  0.0  0.0  0.0  0.0  ...  0.0  1.0  0.0   \n",
      "101579   0.0  0.0  0.0  0.0  1.0  0.0  0.5  0.0  0.0  0.0  ...  0.0  0.0  0.0   \n",
      "\n",
      "movieId   44   54   61   66   69   75   94  \n",
      "userId                                      \n",
      "100200   0.0  0.0  1.0  0.0  0.0  0.0  0.0  \n",
      "100269   0.0  0.0  0.0  0.0  0.0  0.0  0.0  \n",
      "100521   0.0  0.0  0.0  0.5  0.0  0.0  0.0  \n",
      "100972   0.0  0.0  0.0  0.0  1.0  1.0  0.0  \n",
      "100998   1.0  0.0  0.0  0.0  0.0  0.0  0.0  \n",
      "101049   0.0  0.0  0.0  0.0  0.0  0.0  0.5  \n",
      "101170   0.0  0.0  0.0  0.0  0.0  0.0  0.0  \n",
      "101263   0.0  0.0  0.0  0.0  0.0  0.0  0.0  \n",
      "101318   0.0  0.0  0.0  0.0  0.0  0.0  0.0  \n",
      "101579   0.0  0.5  0.0  0.0  0.0  0.0  0.0  \n",
      "\n",
      "[10 rows x 22 columns]\n",
      "\n",
      "The best L recommendations per user:\n",
      "    userId  movieId  recommendation\n",
      "18  101579       17             1.0\n",
      "19  101579       19             0.5\n",
      "16  101318       13             1.0\n",
      "17  101318       40             1.0\n",
      "14  101263        6             1.0\n",
      "15  101263       23             1.0\n",
      "12  101170       34             1.0\n",
      "13  101170       36             1.0\n",
      "10  101049       43             1.0\n",
      "11  101049       39             0.5\n",
      "8   100998       29             1.0\n",
      "9   100998       44             1.0\n",
      "6   100972       69             1.0\n",
      "7   100972       75             1.0\n",
      "4   100521        7             1.0\n",
      "5   100521       66             0.5\n",
      "2   100269       10             1.0\n",
      "3   100269       18             1.0\n",
      "0   100200       39             1.0\n",
      "1   100200       61             1.0\n"
     ]
    }
   ],
   "source": [
    "#function parameters -> (theta, recommendations_num (e.g. 2, 3), Boolean/Continuous (0/1), with/without disimilarity (1/0))\n",
    "score, matrix, recommendations_pairs = serendipity_recommendation_solver(0.25, 2, 1)\n",
    "print('Number of categories:',len(min_cat_dict),'| Number of movies:',len(all_movies_min),'| Number of users:',len(the_users))\n",
    "print()    \n",
    "print('Maximization score:',score)\n",
    "print()\n",
    "print('All model recommendations:')\n",
    "print(matrix)\n",
    "print()\n",
    "print('The best L recommendations per user:')\n",
    "print(recommendations_pairs)"
   ]
  },
  {
   "cell_type": "code",
   "execution_count": null,
   "metadata": {},
   "outputs": [],
   "source": []
  },
  {
   "cell_type": "markdown",
   "metadata": {},
   "source": [
    "# With dimisimilarity (d!=0)"
   ]
  },
  {
   "cell_type": "code",
   "execution_count": 42,
   "metadata": {},
   "outputs": [],
   "source": [
    "def movies_disimilarity(m1, m2):\n",
    "    number_of_criteria = 0\n",
    "    similarity_sum = 0\n",
    "    disimilarity = 1\n",
    "    \n",
    "    list1 = movies_df['directedBy'][movies_df.index[movies_df['movieId'] == m1][0]].split(',')\n",
    "    list2 = movies_df['directedBy'][movies_df.index[movies_df['movieId'] == m2][0]].split(',')\n",
    "    intersection = len(list(set(list1).intersection(list2)))\n",
    "    union = (len(list1) + len(list2)) - intersection\n",
    "    similarity_sum += float(intersection) / union\n",
    "    number_of_criteria += 1\n",
    "\n",
    "    list1 = movies_df['starring'][movies_df.index[movies_df['movieId'] == m1][0]].split(',')\n",
    "    list2 = movies_df['starring'][movies_df.index[movies_df['movieId'] == m2][0]].split(',')\n",
    "    intersection = len(list(set(list1).intersection(list2)))\n",
    "    union = (len(list1) + len(list2)) - intersection\n",
    "    similarity_sum += float(intersection) / union\n",
    "    number_of_criteria += 1\n",
    "\n",
    "    list1 = movies_df['genres'][movies_df.index[movies_df['movieId'] == m1][0]].split(',')\n",
    "    list2 = movies_df['genres'][movies_df.index[movies_df['movieId'] == m2][0]].split(',')\n",
    "    intersection = len(list(set(list1).intersection(list2)))\n",
    "    union = (len(list1) + len(list2)) - intersection\n",
    "    similarity_sum += float(intersection) / union\n",
    "    number_of_criteria += 1\n",
    "\n",
    "    if number_of_criteria > 0:\n",
    "        similarity = similarity_sum / number_of_criteria\n",
    "        disimilarity = disimilarity - similarity\n",
    "    \n",
    "    return disimilarity    "
   ]
  },
  {
   "cell_type": "code",
   "execution_count": 43,
   "metadata": {},
   "outputs": [],
   "source": [
    "d = {}\n",
    "for m1 in range(0, len(all_movies_min)):\n",
    "    for m2 in range(0, len(all_movies_min)):\n",
    "        if all_movies_min[m1] != all_movies_min[m2]:\n",
    "            d[(all_movies_min[m1],all_movies_min[m2])] = movies_disimilarity(all_movies_min[m1], all_movies_min[m2])"
   ]
  },
  {
   "cell_type": "markdown",
   "metadata": {},
   "source": [
    "Boolean"
   ]
  },
  {
   "cell_type": "code",
   "execution_count": 322,
   "metadata": {},
   "outputs": [
    {
     "name": "stdout",
     "output_type": "stream",
     "text": [
      "WARNING: Loading a SolverResults object with an 'aborted' status, but\n",
      "    containing a solution\n",
      "Number of categories: 6 | Number of movies: 60 | Number of users: 10\n",
      "\n",
      "Maximization score: 9.0\n",
      "\n",
      "All model recommendations:\n",
      "movieId   2    3    5    6    13   14   16   17   25   32   36   44   46   52  \\\n",
      "userId                                                                          \n",
      "100200   1.0  1.0  0.0  0.0  0.0  0.0  1.0  0.0  0.0  0.0  0.0  0.0  0.0  0.0   \n",
      "100269   0.0  0.0  0.0  0.0  1.0  0.0  0.0  0.0  0.0  1.0  0.0  0.0  0.0  0.0   \n",
      "100521   0.0  0.0  1.0  0.0  0.0  0.0  0.0  0.0  1.0  1.0  0.0  0.0  0.0  0.0   \n",
      "100972   1.0  1.0  0.0  0.0  0.0  0.0  0.0  0.0  0.0  0.0  1.0  0.0  0.0  0.0   \n",
      "100998   0.0  0.0  1.0  0.0  0.0  0.0  0.0  0.0  0.0  1.0  0.0  0.0  1.0  0.0   \n",
      "101049   1.0  0.0  0.0  1.0  0.0  0.0  0.0  0.0  0.0  0.0  0.0  0.0  0.0  0.0   \n",
      "101170   0.0  0.0  1.0  0.0  0.0  0.0  0.0  1.0  0.0  1.0  0.0  0.0  0.0  0.0   \n",
      "101263   1.0  0.0  0.0  0.0  0.0  0.0  0.0  0.0  0.0  1.0  0.0  0.0  0.0  1.0   \n",
      "101318   1.0  0.0  0.0  0.0  0.0  1.0  0.0  0.0  0.0  1.0  0.0  0.0  0.0  0.0   \n",
      "101579   0.0  0.0  0.0  0.0  0.0  0.0  0.0  1.0  0.0  1.0  0.0  1.0  0.0  0.0   \n",
      "\n",
      "movieId   75  \n",
      "userId        \n",
      "100200   0.0  \n",
      "100269   1.0  \n",
      "100521   0.0  \n",
      "100972   0.0  \n",
      "100998   0.0  \n",
      "101049   1.0  \n",
      "101170   0.0  \n",
      "101263   0.0  \n",
      "101318   0.0  \n",
      "101579   0.0  \n",
      "\n",
      "The best L recommendations per user:\n",
      "    userId  movieId  recommendation\n",
      "27  101579       17             1.0\n",
      "28  101579       32             1.0\n",
      "29  101579       44             1.0\n",
      "24  101318        2             1.0\n",
      "25  101318       14             1.0\n",
      "26  101318       32             1.0\n",
      "21  101263        2             1.0\n",
      "22  101263       32             1.0\n",
      "23  101263       52             1.0\n",
      "18  101170        5             1.0\n",
      "19  101170       17             1.0\n",
      "20  101170       32             1.0\n",
      "15  101049        2             1.0\n",
      "16  101049        6             1.0\n",
      "17  101049       75             1.0\n",
      "12  100998        5             1.0\n",
      "13  100998       32             1.0\n",
      "14  100998       46             1.0\n",
      "9   100972        2             1.0\n",
      "10  100972        3             1.0\n",
      "11  100972       36             1.0\n",
      "6   100521        5             1.0\n",
      "7   100521       25             1.0\n",
      "8   100521       32             1.0\n",
      "3   100269       13             1.0\n",
      "4   100269       32             1.0\n",
      "5   100269       75             1.0\n",
      "0   100200        2             1.0\n",
      "1   100200        3             1.0\n",
      "2   100200       16             1.0\n"
     ]
    }
   ],
   "source": [
    "#function parameters -> (theta, recommendations_num (e.g. 2, 3), Boolean/Continuous (0/1), with/without disimilarity (1/0))\n",
    "score, matrix, recommendations_pairs = serendipity_recommendation_solver(0.4, 3, 0, 1)\n",
    "print('Number of categories:',len(min_cat_dict),'| Number of movies:',len(all_movies_min),'| Number of users:',len(the_users))\n",
    "print()    \n",
    "print('Maximization score:',score)\n",
    "print()\n",
    "print('All model recommendations:')\n",
    "print(matrix)\n",
    "print()\n",
    "print('The best L recommendations per user:')\n",
    "print(recommendations_pairs)"
   ]
  },
  {
   "cell_type": "code",
   "execution_count": null,
   "metadata": {},
   "outputs": [],
   "source": []
  },
  {
   "cell_type": "markdown",
   "metadata": {},
   "source": [
    "Continuous"
   ]
  },
  {
   "cell_type": "code",
   "execution_count": 330,
   "metadata": {},
   "outputs": [
    {
     "name": "stdout",
     "output_type": "stream",
     "text": [
      "Number of categories: 6 | Number of movies: 60 | Number of users: 10\n",
      "\n",
      "Maximization score: 5.724587269878451\n",
      "\n",
      "All model recommendations:\n",
      "movieId            1         2         3         4         5         6   \\\n",
      "userId                                                                    \n",
      "100200   1.701945e-08  0.069083  0.037033  0.000002  0.032986  0.040937   \n",
      "100269   1.707863e-08  0.071576  0.038379  0.000002  0.033935  0.050143   \n",
      "100521   1.707863e-08  0.071576  0.038379  0.000002  0.033935  0.050143   \n",
      "100972   1.701945e-08  0.069083  0.037033  0.000002  0.032986  0.040937   \n",
      "100998   1.707863e-08  0.071576  0.038379  0.000002  0.033935  0.050143   \n",
      "101049   1.701945e-08  0.069083  0.037033  0.000002  0.032986  0.040937   \n",
      "101170   1.707863e-08  0.071576  0.038379  0.000002  0.033935  0.050143   \n",
      "101263   1.707863e-08  0.071576  0.038379  0.000002  0.033935  0.050143   \n",
      "101318   1.707863e-08  0.071576  0.038379  0.000002  0.033935  0.050143   \n",
      "101579   1.707863e-08  0.071576  0.038379  0.000002  0.033935  0.050143   \n",
      "\n",
      "movieId        7         8         9         10  ...        57        58  \\\n",
      "userId                                           ...                       \n",
      "100200   0.037033  0.066428  0.098555  0.037744  ...  0.019220  0.000002   \n",
      "100269   0.038379  0.068940  0.100324  0.044007  ...  0.018395  0.000002   \n",
      "100521   0.038379  0.068940  0.100324  0.044007  ...  0.018395  0.000002   \n",
      "100972   0.037033  0.066428  0.098555  0.037744  ...  0.019220  0.000002   \n",
      "100998   0.038379  0.068940  0.100324  0.044007  ...  0.018395  0.000002   \n",
      "101049   0.037033  0.066428  0.098555  0.037744  ...  0.019220  0.000002   \n",
      "101170   0.038379  0.068940  0.100324  0.044007  ...  0.018395  0.000002   \n",
      "101263   0.038379  0.068940  0.100324  0.044007  ...  0.018395  0.000002   \n",
      "101318   0.038379  0.068940  0.100324  0.044007  ...  0.018395  0.000002   \n",
      "101579   0.038379  0.068940  0.100324  0.044007  ...  0.018395  0.000002   \n",
      "\n",
      "movieId        61        65        66        69        75        81        88  \\\n",
      "userId                                                                          \n",
      "100200   0.021905  0.031364  0.059450  0.032567  0.000002  0.023512  0.032986   \n",
      "100269   0.030828  0.032226  0.063655  0.033534  0.000002  0.025291  0.033935   \n",
      "100521   0.030828  0.032226  0.063655  0.033534  0.000002  0.025291  0.033935   \n",
      "100972   0.021905  0.031364  0.059450  0.032567  0.000002  0.023512  0.032986   \n",
      "100998   0.030828  0.032226  0.063655  0.033534  0.000002  0.025291  0.033935   \n",
      "101049   0.021905  0.031364  0.059450  0.032567  0.000002  0.023512  0.032986   \n",
      "101170   0.030828  0.032226  0.063655  0.033534  0.000002  0.025291  0.033935   \n",
      "101263   0.030828  0.032226  0.063655  0.033534  0.000002  0.025291  0.033935   \n",
      "101318   0.030828  0.032226  0.063655  0.033534  0.000002  0.025291  0.033935   \n",
      "101579   0.030828  0.032226  0.063655  0.033534  0.000002  0.025291  0.033935   \n",
      "\n",
      "movieId        94  \n",
      "userId             \n",
      "100200   0.000002  \n",
      "100269   0.000002  \n",
      "100521   0.000002  \n",
      "100972   0.000002  \n",
      "100998   0.000002  \n",
      "101049   0.000002  \n",
      "101170   0.000002  \n",
      "101263   0.000002  \n",
      "101318   0.000002  \n",
      "101579   0.000002  \n",
      "\n",
      "[10 rows x 60 columns]\n",
      "\n",
      "The best L recommendations per user:\n",
      "    userId  movieId  recommendation\n",
      "18  101579        9        0.100324\n",
      "19  101579       32        0.097790\n",
      "16  101318        9        0.100324\n",
      "17  101318       32        0.097790\n",
      "14  101263        9        0.100324\n",
      "15  101263       32        0.097790\n",
      "12  101170        9        0.100324\n",
      "13  101170       32        0.097790\n",
      "10  101049        9        0.098555\n",
      "11  101049       47        0.076840\n",
      "8   100998        9        0.100324\n",
      "9   100998       32        0.097790\n",
      "6   100972        9        0.098555\n",
      "7   100972       47        0.076840\n",
      "4   100521        9        0.100324\n",
      "5   100521       32        0.097790\n",
      "2   100269        9        0.100324\n",
      "3   100269       32        0.097790\n",
      "0   100200        9        0.098555\n",
      "1   100200       47        0.076840\n"
     ]
    }
   ],
   "source": [
    "#function parameters -> (theta, recommendations_num (e.g. 2, 3), Boolean/Continuous (0/1), with/without disimilarity (1/0))\n",
    "score, matrix, recommendations_pairs = serendipity_recommendation_solver(0.4, 2, 1, 1)\n",
    "print('Number of categories:',len(min_cat_dict),'| Number of movies:',len(all_movies_min),'| Number of users:',len(the_users))\n",
    "print()    \n",
    "print('Maximization score:',score)\n",
    "print()\n",
    "print('All model recommendations:')\n",
    "print(matrix)\n",
    "print()\n",
    "print('The best L recommendations per user:')\n",
    "print(recommendations_pairs)"
   ]
  },
  {
   "cell_type": "code",
   "execution_count": null,
   "metadata": {},
   "outputs": [],
   "source": []
  },
  {
   "cell_type": "markdown",
   "metadata": {},
   "source": [
    "# Plots"
   ]
  },
  {
   "cell_type": "code",
   "execution_count": 44,
   "metadata": {},
   "outputs": [],
   "source": [
    "import matplotlib.pyplot as plt"
   ]
  },
  {
   "cell_type": "code",
   "execution_count": 45,
   "metadata": {},
   "outputs": [],
   "source": [
    "theta_values = [0.25, 0.3, 0.35, 0.4, 0.45, 0.5]\n",
    "recommendations_values = [2, 3]"
   ]
  },
  {
   "cell_type": "markdown",
   "metadata": {},
   "source": [
    "Without disimilarity (d != 0)"
   ]
  },
  {
   "cell_type": "markdown",
   "metadata": {},
   "source": [
    "Boolean"
   ]
  },
  {
   "cell_type": "code",
   "execution_count": 365,
   "metadata": {},
   "outputs": [],
   "source": [
    "theta_results = []\n",
    "recommendations_results = []\n",
    "serendipity_results_boolean = []"
   ]
  },
  {
   "cell_type": "code",
   "execution_count": 366,
   "metadata": {},
   "outputs": [
    {
     "name": "stdout",
     "output_type": "stream",
     "text": [
      "WARNING: Loading a SolverResults object with a warning status into\n",
      "    model=unknown;\n",
      "        message from solver=<undefined>\n",
      "WARNING: Loading a SolverResults object with a warning status into\n",
      "    model=unknown;\n",
      "        message from solver=<undefined>\n",
      "WARNING: Loading a SolverResults object with a warning status into\n",
      "    model=unknown;\n",
      "        message from solver=<undefined>\n",
      "WARNING: Loading a SolverResults object with a warning status into\n",
      "    model=unknown;\n",
      "        message from solver=<undefined>\n"
     ]
    }
   ],
   "source": [
    "for theta in theta_values:\n",
    "    for recommendations in recommendations_values:\n",
    "        theta_results.append(theta)\n",
    "        recommendations_results.append(recommendations)\n",
    "        score, matrix, recommendations_pairs = serendipity_recommendation_solver(theta, recommendations, 0)\n",
    "        total_serendipity = 0\n",
    "        if len(recommendations_pairs) > 0:\n",
    "            for u in recommendations_pairs['userId'].unique():\n",
    "                for m in recommendations_pairs['movieId'].unique():\n",
    "                    total_serendipity += predicted[(similarities_user_movies[(u,m)], rated_movies_popularity[m])]\n",
    "        serendipity_results_boolean.append(total_serendipity)"
   ]
  },
  {
   "cell_type": "code",
   "execution_count": 367,
   "metadata": {},
   "outputs": [
    {
     "data": {
      "text/plain": [
       "[190.0, 230.0, 190.0, 233.0, 0, 253.0, 0, 260.0, 0, 250.0, 0, 250.0]"
      ]
     },
     "execution_count": 367,
     "metadata": {},
     "output_type": "execute_result"
    }
   ],
   "source": [
    "serendipity_results_boolean"
   ]
  },
  {
   "cell_type": "code",
   "execution_count": 406,
   "metadata": {},
   "outputs": [
    {
     "data": {
      "image/png": "[encoded data removed]",
      "text/plain": [
       "<Figure size 720x360 with 1 Axes>"
      ]
     },
     "metadata": {
      "needs_background": "light"
     },
     "output_type": "display_data"
    }
   ],
   "source": [
    "serendipity_results_boolean_df = pd.DataFrame(\n",
    "            {'theta': theta_results,\n",
    "             'total_serendipity': serendipity_results_boolean,\n",
    "             'L': recommendations_results\n",
    "            })\n",
    "\n",
    "df1 = serendipity_results_boolean_df.loc[serendipity_results_boolean_df['L'] == 2]\n",
    "df2 = serendipity_results_boolean_df.loc[serendipity_results_boolean_df['L'] == 3]\n",
    "\n",
    "plt.figure(figsize=(10, 5))\n",
    "plt.scatter(df1.theta, df1.total_serendipity, c='orange', s=80, label='L = 2')\n",
    "plt.scatter(df1.theta, df2.total_serendipity, c='green', s=80, label='L = 3')\n",
    "plt.legend()\n",
    "plt.tight_layout()\n",
    "plt.title('Total serendipity for binary X with d = 0')\n",
    "plt.show()"
   ]
  },
  {
   "cell_type": "code",
   "execution_count": null,
   "metadata": {},
   "outputs": [],
   "source": []
  },
  {
   "cell_type": "markdown",
   "metadata": {},
   "source": [
    "Continuous"
   ]
  },
  {
   "cell_type": "code",
   "execution_count": 58,
   "metadata": {},
   "outputs": [],
   "source": [
    "theta_results = []\n",
    "recommendations_results = []\n",
    "serendipity_results_cont = []"
   ]
  },
  {
   "cell_type": "code",
   "execution_count": 59,
   "metadata": {},
   "outputs": [
    {
     "name": "stdout",
     "output_type": "stream",
     "text": [
      "WARNING: Loading a SolverResults object with a warning status into\n",
      "    model=unknown;\n",
      "        message from solver=<undefined>\n",
      "WARNING: Loading a SolverResults object with a warning status into\n",
      "    model=unknown;\n",
      "        message from solver=<undefined>\n",
      "WARNING: Loading a SolverResults object with a warning status into\n",
      "    model=unknown;\n",
      "        message from solver=<undefined>\n",
      "WARNING: Loading a SolverResults object with a warning status into\n",
      "    model=unknown;\n",
      "        message from solver=<undefined>\n"
     ]
    }
   ],
   "source": [
    "for theta in theta_values:\n",
    "    for recommendations in recommendations_values:\n",
    "        theta_results.append(theta)\n",
    "        recommendations_results.append(recommendations)\n",
    "        score, matrix, recommendations_pairs = serendipity_recommendation_solver(theta, recommendations, 1)\n",
    "        total_serendipity = 0\n",
    "        if len(recommendations_pairs) > 0:\n",
    "            for u in recommendations_pairs['userId'].unique():\n",
    "                for m in recommendations_pairs['movieId'].unique():\n",
    "                    total_serendipity += predicted[(similarities_user_movies[(u,m)], rated_movies_popularity[m])]\n",
    "        serendipity_results_cont.append(total_serendipity)"
   ]
  },
  {
   "cell_type": "code",
   "execution_count": 60,
   "metadata": {},
   "outputs": [
    {
     "data": {
      "text/plain": [
       "[150.0, 273.0, 173.0, 273.0, 0, 273.0, 0, 293.0, 0, 250.0, 0, 260.0]"
      ]
     },
     "execution_count": 60,
     "metadata": {},
     "output_type": "execute_result"
    }
   ],
   "source": [
    "serendipity_results_cont"
   ]
  },
  {
   "cell_type": "code",
   "execution_count": 61,
   "metadata": {},
   "outputs": [
    {
     "data": {
      "image/png": "[encoded data removed]",
      "text/plain": [
       "<Figure size 720x360 with 1 Axes>"
      ]
     },
     "metadata": {
      "needs_background": "light"
     },
     "output_type": "display_data"
    }
   ],
   "source": [
    "serendipity_results_cont_df = pd.DataFrame(\n",
    "            {'theta': theta_results,\n",
    "             'total_serendipity': serendipity_results_cont,\n",
    "             'L': recommendations_results\n",
    "            })\n",
    "\n",
    "df1 = serendipity_results_cont_df.loc[serendipity_results_cont_df['L'] == 2]\n",
    "df2 = serendipity_results_cont_df.loc[serendipity_results_cont_df['L'] == 3]\n",
    "\n",
    "plt.figure(figsize=(10, 5))\n",
    "plt.scatter(df1.theta, df1.total_serendipity, c='orange', s=80, label='L = 2')\n",
    "plt.scatter(df1.theta, df2.total_serendipity, c='green', s=80, label='L = 3')\n",
    "plt.legend()\n",
    "plt.tight_layout()\n",
    "plt.title('Total serendipity for continuous X with d = 0')\n",
    "plt.show()"
   ]
  },
  {
   "cell_type": "code",
   "execution_count": null,
   "metadata": {},
   "outputs": [],
   "source": []
  },
  {
   "cell_type": "markdown",
   "metadata": {},
   "source": [
    "With disimilarity (d = 0)"
   ]
  },
  {
   "cell_type": "markdown",
   "metadata": {},
   "source": [
    "Boolean"
   ]
  },
  {
   "cell_type": "code",
   "execution_count": 54,
   "metadata": {},
   "outputs": [],
   "source": [
    "theta_results = []\n",
    "recommendations_results = []\n",
    "serendipity_results_wd_boolean = []"
   ]
  },
  {
   "cell_type": "code",
   "execution_count": 55,
   "metadata": {},
   "outputs": [
    {
     "name": "stdout",
     "output_type": "stream",
     "text": [
      "WARNING: Loading a SolverResults object with an 'aborted' status, but\n",
      "    containing a solution\n",
      "WARNING: Loading a SolverResults object with an 'aborted' status, but\n",
      "    containing a solution\n",
      "WARNING: Loading a SolverResults object with an 'aborted' status, but\n",
      "    containing a solution\n",
      "WARNING: Loading a SolverResults object with an 'aborted' status, but\n",
      "    containing a solution\n",
      "WARNING: Loading a SolverResults object with an 'aborted' status, but\n",
      "    containing a solution\n",
      "WARNING: Loading a SolverResults object with an 'aborted' status, but\n",
      "    containing a solution\n",
      "WARNING: Loading a SolverResults object with an 'aborted' status, but\n",
      "    containing a solution\n",
      "WARNING: Loading a SolverResults object with an 'aborted' status, but\n",
      "    containing a solution\n",
      "WARNING: Loading a SolverResults object with an 'aborted' status, but\n",
      "    containing a solution\n",
      "WARNING: Loading a SolverResults object with an 'aborted' status, but\n",
      "    containing a solution\n",
      "WARNING: Loading a SolverResults object with an 'aborted' status, but\n",
      "    containing a solution\n",
      "WARNING: Loading a SolverResults object with an 'aborted' status, but\n",
      "    containing a solution\n"
     ]
    }
   ],
   "source": [
    "for theta in theta_values:\n",
    "    for recommendations in recommendations_values:\n",
    "        theta_results.append(theta)\n",
    "        recommendations_results.append(recommendations)\n",
    "        score, matrix, recommendations_pairs = serendipity_recommendation_solver(theta, recommendations, 0, 1)\n",
    "        total_serendipity = 0\n",
    "        if len(recommendations_pairs) > 0:\n",
    "            for u in recommendations_pairs['userId'].unique():\n",
    "                for m in recommendations_pairs['movieId'].unique():\n",
    "                    total_serendipity += predicted[(similarities_user_movies[(u,m)], rated_movies_popularity[m])]\n",
    "        serendipity_results_wd_boolean.append(total_serendipity)"
   ]
  },
  {
   "cell_type": "code",
   "execution_count": 56,
   "metadata": {},
   "outputs": [
    {
     "data": {
      "text/plain": [
       "[63.0,\n",
       " 150.0,\n",
       " 83.0,\n",
       " 140.0,\n",
       " 170.0,\n",
       " 170.0,\n",
       " 180.0,\n",
       " 170.0,\n",
       " 163.0,\n",
       " 140.0,\n",
       " 170.0,\n",
       " 190.0]"
      ]
     },
     "execution_count": 56,
     "metadata": {},
     "output_type": "execute_result"
    }
   ],
   "source": [
    "serendipity_results_wd_boolean"
   ]
  },
  {
   "cell_type": "code",
   "execution_count": 57,
   "metadata": {},
   "outputs": [
    {
     "data": {
      "image/png": "[encoded data removed]",
      "text/plain": [
       "<Figure size 720x360 with 1 Axes>"
      ]
     },
     "metadata": {
      "needs_background": "light"
     },
     "output_type": "display_data"
    }
   ],
   "source": [
    "serendipity_results_binary_wd_df = pd.DataFrame(\n",
    "            {'theta': theta_results,\n",
    "             'total_serendipity': serendipity_results_wd_boolean,\n",
    "             'L': recommendations_results\n",
    "            })\n",
    "\n",
    "df1 = serendipity_results_binary_wd_df.loc[serendipity_results_binary_wd_df['L'] == 2]\n",
    "df2 = serendipity_results_binary_wd_df.loc[serendipity_results_binary_wd_df['L'] == 3]\n",
    "\n",
    "plt.figure(figsize=(10, 5))\n",
    "plt.scatter(df1.theta, df1.total_serendipity, c='orange', s=80, label='L = 2')\n",
    "plt.scatter(df1.theta, df2.total_serendipity, c='green', s=80, label='L = 3')\n",
    "plt.legend()\n",
    "plt.tight_layout()\n",
    "plt.title('Total serendipity for binary X with d != 0')\n",
    "plt.show()"
   ]
  },
  {
   "cell_type": "code",
   "execution_count": null,
   "metadata": {},
   "outputs": [],
   "source": []
  },
  {
   "cell_type": "markdown",
   "metadata": {},
   "source": [
    "Continuous"
   ]
  },
  {
   "cell_type": "code",
   "execution_count": 62,
   "metadata": {},
   "outputs": [],
   "source": [
    "theta_results = []\n",
    "recommendations_results = []\n",
    "serendipity_results_wd_cont = []"
   ]
  },
  {
   "cell_type": "code",
   "execution_count": 63,
   "metadata": {},
   "outputs": [],
   "source": [
    "for theta in theta_values:\n",
    "    for recommendations in recommendations_values:\n",
    "        theta_results.append(theta)\n",
    "        recommendations_results.append(recommendations)\n",
    "        score, matrix, recommendations_pairs = serendipity_recommendation_solver(theta, recommendations, 1, 1)\n",
    "        total_serendipity = 0\n",
    "        if len(recommendations_pairs) > 0:\n",
    "            for u in recommendations_pairs['userId'].unique():\n",
    "                for m in recommendations_pairs['movieId'].unique():\n",
    "                    total_serendipity += predicted[(similarities_user_movies[(u,m)], rated_movies_popularity[m])]\n",
    "        serendipity_results_wd_cont.append(total_serendipity)"
   ]
  },
  {
   "cell_type": "code",
   "execution_count": 64,
   "metadata": {},
   "outputs": [
    {
     "data": {
      "text/plain": [
       "[30.0, 40.0, 30.0, 40.0, 30.0, 40.0, 30.0, 40.0, 30.0, 40.0, 30.0, 40.0]"
      ]
     },
     "execution_count": 64,
     "metadata": {},
     "output_type": "execute_result"
    }
   ],
   "source": [
    "serendipity_results_wd_cont"
   ]
  },
  {
   "cell_type": "code",
   "execution_count": 65,
   "metadata": {},
   "outputs": [
    {
     "data": {
      "image/png": "[encoded data removed]",
      "text/plain": [
       "<Figure size 720x360 with 1 Axes>"
      ]
     },
     "metadata": {
      "needs_background": "light"
     },
     "output_type": "display_data"
    }
   ],
   "source": [
    "serendipity_results_cont_wd_df = pd.DataFrame(\n",
    "            {'theta': theta_results,\n",
    "             'total_serendipity': serendipity_results_wd_cont,\n",
    "             'L': recommendations_results\n",
    "            })\n",
    "\n",
    "df1 = serendipity_results_cont_wd_df.loc[serendipity_results_cont_wd_df['L'] == 2]\n",
    "df2 = serendipity_results_cont_wd_df.loc[serendipity_results_cont_wd_df['L'] == 3]\n",
    "\n",
    "plt.figure(figsize=(10, 5))\n",
    "plt.scatter(df1.theta, df1.total_serendipity, c='orange', s=80, label='L = 2')\n",
    "plt.scatter(df1.theta, df2.total_serendipity, c='green', s=80, label='L = 3')\n",
    "plt.legend()\n",
    "plt.tight_layout()\n",
    "plt.title('Total serendipity for continuous X with d != 0')\n",
    "plt.show()"
   ]
  },
  {
   "cell_type": "code",
   "execution_count": null,
   "metadata": {},
   "outputs": [],
   "source": []
  }
 ],
 "metadata": {
  "kernelspec": {
   "display_name": "Python 3",
   "language": "python",
   "name": "python3"
  },
  "language_info": {
   "codemirror_mode": {
    "name": "ipython",
    "version": 3
   },
   "file_extension": ".py",
   "mimetype": "text/x-python",
   "name": "python",
   "nbconvert_exporter": "python",
   "pygments_lexer": "ipython3",
   "version": "3.7.6"
  }
 },
 "nbformat": 4,
 "nbformat_minor": 4
}
